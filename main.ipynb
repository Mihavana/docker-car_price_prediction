{
 "cells": [
  {
   "cell_type": "code",
   "execution_count": 63,
   "id": "a92e6e85",
   "metadata": {},
   "outputs": [],
   "source": [
    "import pandas as pd\n",
    "import numpy as np\n",
    "import matplotlib.pyplot as plt\n",
    "import seaborn as sns"
   ]
  },
  {
   "cell_type": "code",
   "execution_count": 64,
   "id": "4943b014",
   "metadata": {},
   "outputs": [],
   "source": [
    "df = pd.read_csv('/mnt/44D2A11AD2A1116A/Studies/INSI/M1/DOCKER/Project/Car Price.csv')"
   ]
  },
  {
   "cell_type": "code",
   "execution_count": 60,
   "id": "84d1f00a",
   "metadata": {},
   "outputs": [
    {
     "data": {
      "text/html": [
       "<div>\n",
       "<style scoped>\n",
       "    .dataframe tbody tr th:only-of-type {\n",
       "        vertical-align: middle;\n",
       "    }\n",
       "\n",
       "    .dataframe tbody tr th {\n",
       "        vertical-align: top;\n",
       "    }\n",
       "\n",
       "    .dataframe thead th {\n",
       "        text-align: right;\n",
       "    }\n",
       "</style>\n",
       "<table border=\"1\" class=\"dataframe\">\n",
       "  <thead>\n",
       "    <tr style=\"text-align: right;\">\n",
       "      <th></th>\n",
       "      <th>Brand</th>\n",
       "      <th>Model</th>\n",
       "      <th>Year</th>\n",
       "      <th>Selling_Price</th>\n",
       "      <th>KM_Driven</th>\n",
       "      <th>Fuel</th>\n",
       "      <th>Seller_Type</th>\n",
       "      <th>Transmission</th>\n",
       "      <th>Is_First_Owner</th>\n",
       "    </tr>\n",
       "  </thead>\n",
       "  <tbody>\n",
       "    <tr>\n",
       "      <th>0</th>\n",
       "      <td>Maruti</td>\n",
       "      <td>Maruti 800 AC</td>\n",
       "      <td>2007</td>\n",
       "      <td>60000</td>\n",
       "      <td>70000</td>\n",
       "      <td>Petrol</td>\n",
       "      <td>Individual</td>\n",
       "      <td>Manual</td>\n",
       "      <td>1</td>\n",
       "    </tr>\n",
       "    <tr>\n",
       "      <th>1</th>\n",
       "      <td>Maruti</td>\n",
       "      <td>Maruti Wagon R LXI Minor</td>\n",
       "      <td>2007</td>\n",
       "      <td>135000</td>\n",
       "      <td>50000</td>\n",
       "      <td>Petrol</td>\n",
       "      <td>Individual</td>\n",
       "      <td>Manual</td>\n",
       "      <td>1</td>\n",
       "    </tr>\n",
       "    <tr>\n",
       "      <th>2</th>\n",
       "      <td>Hyundai</td>\n",
       "      <td>Hyundai Verna 1.6 SX</td>\n",
       "      <td>2012</td>\n",
       "      <td>600000</td>\n",
       "      <td>100000</td>\n",
       "      <td>Diesel</td>\n",
       "      <td>Individual</td>\n",
       "      <td>Manual</td>\n",
       "      <td>1</td>\n",
       "    </tr>\n",
       "    <tr>\n",
       "      <th>3</th>\n",
       "      <td>Datsun</td>\n",
       "      <td>Datsun RediGO T Option</td>\n",
       "      <td>2017</td>\n",
       "      <td>250000</td>\n",
       "      <td>46000</td>\n",
       "      <td>Petrol</td>\n",
       "      <td>Individual</td>\n",
       "      <td>Manual</td>\n",
       "      <td>1</td>\n",
       "    </tr>\n",
       "    <tr>\n",
       "      <th>4</th>\n",
       "      <td>Honda</td>\n",
       "      <td>Honda Amaze VX i-DTEC</td>\n",
       "      <td>2014</td>\n",
       "      <td>450000</td>\n",
       "      <td>141000</td>\n",
       "      <td>Diesel</td>\n",
       "      <td>Individual</td>\n",
       "      <td>Manual</td>\n",
       "      <td>0</td>\n",
       "    </tr>\n",
       "    <tr>\n",
       "      <th>5</th>\n",
       "      <td>Maruti</td>\n",
       "      <td>Maruti Alto LX BSIII</td>\n",
       "      <td>2007</td>\n",
       "      <td>140000</td>\n",
       "      <td>125000</td>\n",
       "      <td>Petrol</td>\n",
       "      <td>Individual</td>\n",
       "      <td>Manual</td>\n",
       "      <td>1</td>\n",
       "    </tr>\n",
       "    <tr>\n",
       "      <th>6</th>\n",
       "      <td>Hyundai</td>\n",
       "      <td>Hyundai Xcent 1.2 Kappa S</td>\n",
       "      <td>2016</td>\n",
       "      <td>550000</td>\n",
       "      <td>25000</td>\n",
       "      <td>Petrol</td>\n",
       "      <td>Individual</td>\n",
       "      <td>Manual</td>\n",
       "      <td>1</td>\n",
       "    </tr>\n",
       "    <tr>\n",
       "      <th>7</th>\n",
       "      <td>Tata</td>\n",
       "      <td>Tata Indigo Grand Petrol</td>\n",
       "      <td>2014</td>\n",
       "      <td>240000</td>\n",
       "      <td>60000</td>\n",
       "      <td>Petrol</td>\n",
       "      <td>Individual</td>\n",
       "      <td>Manual</td>\n",
       "      <td>0</td>\n",
       "    </tr>\n",
       "    <tr>\n",
       "      <th>8</th>\n",
       "      <td>Hyundai</td>\n",
       "      <td>Hyundai Creta 1.6 VTVT S</td>\n",
       "      <td>2015</td>\n",
       "      <td>850000</td>\n",
       "      <td>25000</td>\n",
       "      <td>Petrol</td>\n",
       "      <td>Individual</td>\n",
       "      <td>Manual</td>\n",
       "      <td>1</td>\n",
       "    </tr>\n",
       "    <tr>\n",
       "      <th>9</th>\n",
       "      <td>Maruti</td>\n",
       "      <td>Maruti Celerio Green VXI</td>\n",
       "      <td>2017</td>\n",
       "      <td>365000</td>\n",
       "      <td>78000</td>\n",
       "      <td>CNG</td>\n",
       "      <td>Individual</td>\n",
       "      <td>Manual</td>\n",
       "      <td>1</td>\n",
       "    </tr>\n",
       "  </tbody>\n",
       "</table>\n",
       "</div>"
      ],
      "text/plain": [
       "     Brand                      Model  Year  Selling_Price  KM_Driven    Fuel  \\\n",
       "0   Maruti              Maruti 800 AC  2007          60000      70000  Petrol   \n",
       "1   Maruti   Maruti Wagon R LXI Minor  2007         135000      50000  Petrol   \n",
       "2  Hyundai       Hyundai Verna 1.6 SX  2012         600000     100000  Diesel   \n",
       "3   Datsun     Datsun RediGO T Option  2017         250000      46000  Petrol   \n",
       "4    Honda      Honda Amaze VX i-DTEC  2014         450000     141000  Diesel   \n",
       "5   Maruti       Maruti Alto LX BSIII  2007         140000     125000  Petrol   \n",
       "6  Hyundai  Hyundai Xcent 1.2 Kappa S  2016         550000      25000  Petrol   \n",
       "7     Tata   Tata Indigo Grand Petrol  2014         240000      60000  Petrol   \n",
       "8  Hyundai   Hyundai Creta 1.6 VTVT S  2015         850000      25000  Petrol   \n",
       "9   Maruti   Maruti Celerio Green VXI  2017         365000      78000     CNG   \n",
       "\n",
       "  Seller_Type Transmission  Is_First_Owner  \n",
       "0  Individual       Manual               1  \n",
       "1  Individual       Manual               1  \n",
       "2  Individual       Manual               1  \n",
       "3  Individual       Manual               1  \n",
       "4  Individual       Manual               0  \n",
       "5  Individual       Manual               1  \n",
       "6  Individual       Manual               1  \n",
       "7  Individual       Manual               0  \n",
       "8  Individual       Manual               1  \n",
       "9  Individual       Manual               1  "
      ]
     },
     "execution_count": 60,
     "metadata": {},
     "output_type": "execute_result"
    }
   ],
   "source": [
    "pd.set_option('display.max_columns', None)\n",
    "df.head(10)"
   ]
  },
  {
   "cell_type": "code",
   "execution_count": 30,
   "id": "6f67857f",
   "metadata": {},
   "outputs": [],
   "source": [
    "# Optionnel : un style plus clean\n",
    "sns.set(style='whitegrid', palette='muted', font_scale=1.2)"
   ]
  },
  {
   "cell_type": "code",
   "execution_count": 31,
   "id": "8ddd79c2",
   "metadata": {},
   "outputs": [
    {
     "data": {
      "image/png": "[encoded data removed]",
      "text/plain": [
       "<Figure size 640x480 with 1 Axes>"
      ]
     },
     "metadata": {},
     "output_type": "display_data"
    }
   ],
   "source": [
    "sns.histplot(df['Selling_Price'], kde=True, color='skyblue')\n",
    "plt.title('Distribution du Prix de Vente')\n",
    "plt.show()"
   ]
  },
  {
   "cell_type": "code",
   "execution_count": 32,
   "id": "41ae1a7f",
   "metadata": {},
   "outputs": [
    {
     "data": {
      "image/png": "[encoded data removed]",
      "text/plain": [
       "<Figure size 640x480 with 1 Axes>"
      ]
     },
     "metadata": {},
     "output_type": "display_data"
    }
   ],
   "source": [
    "sns.histplot(df['Year'], bins=15, color='salmon')\n",
    "plt.title('Distribution de l\\'année')\n",
    "plt.show()"
   ]
  },
  {
   "cell_type": "code",
   "execution_count": 33,
   "id": "062ee09f",
   "metadata": {},
   "outputs": [
    {
     "data": {
      "image/png": "[encoded data removed]",
      "text/plain": [
       "<Figure size 2000x600 with 1 Axes>"
      ]
     },
     "metadata": {},
     "output_type": "display_data"
    }
   ],
   "source": [
    "plt.figure(figsize=(20,6))\n",
    "sns.countplot(x='Brand', data=df, order=df['Brand'].value_counts().index)\n",
    "plt.xticks(rotation=45)\n",
    "plt.title('Distribution des Marques')\n",
    "plt.show()"
   ]
  },
  {
   "cell_type": "code",
   "execution_count": 34,
   "id": "45416494",
   "metadata": {},
   "outputs": [
    {
     "data": {
      "image/png": "[encoded data removed]",
      "text/plain": [
       "<Figure size 640x480 with 1 Axes>"
      ]
     },
     "metadata": {},
     "output_type": "display_data"
    }
   ],
   "source": [
    "sns.scatterplot(x='Year', y='Selling_Price', data=df)\n",
    "plt.title('Prix vs Année')\n",
    "plt.show()"
   ]
  },
  {
   "cell_type": "code",
   "execution_count": 35,
   "id": "1bc17bc7",
   "metadata": {},
   "outputs": [
    {
     "data": {
      "image/png": "[encoded data removed]",
      "text/plain": [
       "<Figure size 640x480 with 1 Axes>"
      ]
     },
     "metadata": {},
     "output_type": "display_data"
    }
   ],
   "source": [
    "sns.boxplot(x='Fuel', y='Selling_Price', data=df)\n",
    "plt.title('Prix vs Type de Carburant')\n",
    "plt.show()"
   ]
  },
  {
   "cell_type": "code",
   "execution_count": 36,
   "id": "262033d4",
   "metadata": {},
   "outputs": [
    {
     "data": {
      "text/plain": [
       "1491"
      ]
     },
     "execution_count": 36,
     "metadata": {},
     "output_type": "execute_result"
    }
   ],
   "source": [
    "df['Model'].nunique()"
   ]
  },
  {
   "cell_type": "code",
   "execution_count": 37,
   "id": "04700a1e",
   "metadata": {},
   "outputs": [
    {
     "data": {
      "text/html": [
       "<div>\n",
       "<style scoped>\n",
       "    .dataframe tbody tr th:only-of-type {\n",
       "        vertical-align: middle;\n",
       "    }\n",
       "\n",
       "    .dataframe tbody tr th {\n",
       "        vertical-align: top;\n",
       "    }\n",
       "\n",
       "    .dataframe thead th {\n",
       "        text-align: right;\n",
       "    }\n",
       "</style>\n",
       "<table border=\"1\" class=\"dataframe\">\n",
       "  <thead>\n",
       "    <tr style=\"text-align: right;\">\n",
       "      <th></th>\n",
       "      <th>Brand</th>\n",
       "      <th>Model</th>\n",
       "      <th>Year</th>\n",
       "      <th>Selling_Price</th>\n",
       "      <th>KM_Driven</th>\n",
       "      <th>Fuel</th>\n",
       "      <th>Seller_Type</th>\n",
       "      <th>Transmission</th>\n",
       "      <th>Owner</th>\n",
       "    </tr>\n",
       "  </thead>\n",
       "  <tbody>\n",
       "    <tr>\n",
       "      <th>0</th>\n",
       "      <td>Maruti</td>\n",
       "      <td>Maruti 800 AC</td>\n",
       "      <td>2007</td>\n",
       "      <td>60000</td>\n",
       "      <td>70000</td>\n",
       "      <td>Petrol</td>\n",
       "      <td>Individual</td>\n",
       "      <td>Manual</td>\n",
       "      <td>First Owner</td>\n",
       "    </tr>\n",
       "    <tr>\n",
       "      <th>1</th>\n",
       "      <td>Maruti</td>\n",
       "      <td>Maruti Wagon R LXI Minor</td>\n",
       "      <td>2007</td>\n",
       "      <td>135000</td>\n",
       "      <td>50000</td>\n",
       "      <td>Petrol</td>\n",
       "      <td>Individual</td>\n",
       "      <td>Manual</td>\n",
       "      <td>First Owner</td>\n",
       "    </tr>\n",
       "    <tr>\n",
       "      <th>2</th>\n",
       "      <td>Hyundai</td>\n",
       "      <td>Hyundai Verna 1.6 SX</td>\n",
       "      <td>2012</td>\n",
       "      <td>600000</td>\n",
       "      <td>100000</td>\n",
       "      <td>Diesel</td>\n",
       "      <td>Individual</td>\n",
       "      <td>Manual</td>\n",
       "      <td>First Owner</td>\n",
       "    </tr>\n",
       "    <tr>\n",
       "      <th>3</th>\n",
       "      <td>Datsun</td>\n",
       "      <td>Datsun RediGO T Option</td>\n",
       "      <td>2017</td>\n",
       "      <td>250000</td>\n",
       "      <td>46000</td>\n",
       "      <td>Petrol</td>\n",
       "      <td>Individual</td>\n",
       "      <td>Manual</td>\n",
       "      <td>First Owner</td>\n",
       "    </tr>\n",
       "    <tr>\n",
       "      <th>4</th>\n",
       "      <td>Honda</td>\n",
       "      <td>Honda Amaze VX i-DTEC</td>\n",
       "      <td>2014</td>\n",
       "      <td>450000</td>\n",
       "      <td>141000</td>\n",
       "      <td>Diesel</td>\n",
       "      <td>Individual</td>\n",
       "      <td>Manual</td>\n",
       "      <td>Second Owner</td>\n",
       "    </tr>\n",
       "  </tbody>\n",
       "</table>\n",
       "</div>"
      ],
      "text/plain": [
       "     Brand                     Model  Year  Selling_Price  KM_Driven    Fuel  \\\n",
       "0   Maruti             Maruti 800 AC  2007          60000      70000  Petrol   \n",
       "1   Maruti  Maruti Wagon R LXI Minor  2007         135000      50000  Petrol   \n",
       "2  Hyundai      Hyundai Verna 1.6 SX  2012         600000     100000  Diesel   \n",
       "3   Datsun    Datsun RediGO T Option  2017         250000      46000  Petrol   \n",
       "4    Honda     Honda Amaze VX i-DTEC  2014         450000     141000  Diesel   \n",
       "\n",
       "  Seller_Type Transmission         Owner  \n",
       "0  Individual       Manual   First Owner  \n",
       "1  Individual       Manual   First Owner  \n",
       "2  Individual       Manual   First Owner  \n",
       "3  Individual       Manual   First Owner  \n",
       "4  Individual       Manual  Second Owner  "
      ]
     },
     "execution_count": 37,
     "metadata": {},
     "output_type": "execute_result"
    }
   ],
   "source": [
    "#df = df.drop(columns=['Model'])\n",
    "df.head()"
   ]
  },
  {
   "cell_type": "code",
   "execution_count": 59,
   "id": "67a855cb",
   "metadata": {},
   "outputs": [
    {
     "data": {
      "text/plain": [
       "['Maruti 800 AC',\n",
       " 'Maruti Wagon R LXI Minor',\n",
       " 'Hyundai Verna 1.6 SX',\n",
       " 'Datsun RediGO T Option',\n",
       " 'Honda Amaze VX i-DTEC',\n",
       " 'Maruti Alto LX BSIII',\n",
       " 'Hyundai Xcent 1.2 Kappa S',\n",
       " 'Tata Indigo Grand Petrol',\n",
       " 'Hyundai Creta 1.6 VTVT S',\n",
       " 'Maruti Celerio Green VXI',\n",
       " 'Chevrolet Sail 1.2 Base',\n",
       " 'Toyota Corolla Altis 1.8 VL CVT',\n",
       " 'Maruti Ciaz VXi Plus',\n",
       " 'Hyundai Venue SX Opt Diesel',\n",
       " 'Chevrolet Enjoy TCDi LTZ 7 Seater',\n",
       " 'Jaguar XF 2.2 Litre Luxury',\n",
       " 'Mercedes-Benz New C-Class 220 CDI AT',\n",
       " 'Maruti Vitara Brezza ZDi Plus AMT',\n",
       " 'Audi Q5 2.0 TDI',\n",
       " 'Honda City V MT',\n",
       " 'Tata Tigor 1.2 Revotron XT',\n",
       " 'Audi A6 2.0 TDI  Design Edition',\n",
       " 'Mercedes-Benz New C-Class C 220 CDI Avantgarde',\n",
       " 'Skoda Superb Ambition 2.0 TDI CR AT',\n",
       " 'Toyota Corolla Altis G AT',\n",
       " 'Toyota Innova 2.5 G (Diesel) 7 Seater',\n",
       " 'Jeep Compass 1.4 Sport Plus BSIV',\n",
       " 'Mercedes-Benz E-Class E 200 CGI Elegance',\n",
       " 'Hyundai i10 Magna 1.1L',\n",
       " 'BMW 3 Series 320d Sport Line',\n",
       " 'Audi Q7 35 TDI Quattro Premium',\n",
       " 'Hyundai Elantra CRDi S',\n",
       " 'Mahindra Scorpio 1.99 S10',\n",
       " 'Honda City i DTEC V',\n",
       " 'Maruti Wagon R VXI BS IV with ABS',\n",
       " 'Maruti Wagon R VXI BS IV',\n",
       " 'Mahindra Scorpio LX',\n",
       " 'Hyundai Santro Xing GLS',\n",
       " 'Hyundai Grand i10 1.2 Kappa Asta',\n",
       " 'Maruti Alto LXi',\n",
       " 'Maruti Swift Dzire VDI Optional',\n",
       " 'Maruti Eeco 5 Seater AC BSIV',\n",
       " 'Hyundai i20 Sportz 1.4 CRDi',\n",
       " 'Maruti Omni Maruti Omni MPI STD BSIII 5-STR W/ IMMOBILISER',\n",
       " 'Maruti Swift ZDi BSIV',\n",
       " 'Hyundai i20 2015-2017 Sportz Option 1.4 CRDi',\n",
       " 'Mahindra Jeep CL 500 MDI',\n",
       " 'Honda City i DTEC VX',\n",
       " 'Tata Indica DLS',\n",
       " 'Hyundai EON Magna Plus',\n",
       " 'Toyota Etios GD',\n",
       " 'Chevrolet Tavera Neo LS B3 - 7(C) seats BSIII',\n",
       " 'Toyota Corolla Altis Diesel D4DG',\n",
       " 'Mahindra Scorpio 1.99 S6 Plus',\n",
       " 'Tata Indigo Classic Dicor',\n",
       " 'Toyota Innova 2.5 V Diesel 8-seater',\n",
       " 'Tata Indica Vista Quadrajet LS',\n",
       " 'Maruti Swift 1.3 VXi',\n",
       " 'Ford EcoSport 1.5 Diesel Titanium BSIV',\n",
       " 'Maruti Ciaz 1.3 Delta',\n",
       " 'Honda Civic 1.8 V AT',\n",
       " 'Hyundai i10 Sportz 1.2',\n",
       " 'Skoda Rapid 1.5 TDI Elegance',\n",
       " 'Hyundai Getz GLS',\n",
       " 'Nissan Terrano XL',\n",
       " 'Hyundai Grand i10 CRDi Sportz',\n",
       " 'Hyundai Elite i20 Diesel Era',\n",
       " 'Honda Amaze S i-VTEC',\n",
       " 'Honda Brio S MT',\n",
       " 'Hyundai Creta 1.6 SX Option',\n",
       " 'Mercedes-Benz S-Class S 350d Connoisseurs Edition',\n",
       " 'Mahindra XUV500 W8 2WD',\n",
       " 'Renault Duster 85PS Diesel RxL Optional',\n",
       " 'Hyundai Santro Xing XO',\n",
       " 'Mahindra Bolero 2011-2019 SLE',\n",
       " 'Audi A6 2.0 TDI Premium Plus',\n",
       " 'Fiat Avventura MULTIJET Emotion',\n",
       " 'Audi A8 4.2 TDI',\n",
       " 'Datsun RediGO 1.0 S',\n",
       " 'Volkswagen Jetta 1.4 TSI Comfortline',\n",
       " 'Audi A4 2.0 TDI 177 Bhp Premium Plus',\n",
       " 'Mercedes-Benz E-Class Exclusive E 200 BSIV',\n",
       " 'BMW X1 sDrive 20d xLine',\n",
       " 'Volvo V40 D3 R Design',\n",
       " 'Maruti SX4 Zxi BSIII',\n",
       " 'BMW 7 Series 730Ld',\n",
       " 'Mahindra Bolero Power Plus SLX',\n",
       " 'Hyundai Sonata CRDi M/T',\n",
       " 'Nissan Micra Active XV Petrol',\n",
       " 'Mahindra Xylo D4',\n",
       " 'Hyundai Elite i20 Sportz Plus Dual Tone BSIV',\n",
       " 'Renault KWID RXT',\n",
       " 'Mahindra Xylo E4 BS III',\n",
       " 'Maruti SX4 ZXI MT BSIV',\n",
       " 'Hyundai Creta 1.4 CRDi S',\n",
       " 'Maruti Swift Dzire VDI',\n",
       " 'Hyundai Verna 1.6 VTVT AT S Option',\n",
       " 'Mahindra Scorpio LX BSIV',\n",
       " 'Maruti SX4 Vxi BSIII',\n",
       " 'Maruti Ertiga VDI',\n",
       " 'Chevrolet Beat Diesel',\n",
       " 'Maruti Zen LX',\n",
       " 'Maruti Baleno Delta 1.2',\n",
       " 'Maruti Swift Vdi BSIII',\n",
       " 'Tata Nano Lx BSIV',\n",
       " 'Toyota Innova 2.5 GX (Diesel) 8 Seater',\n",
       " 'Maruti Ertiga SHVS VDI',\n",
       " 'Hyundai Creta 1.6 CRDi SX',\n",
       " 'Honda Amaze S i-Vtech',\n",
       " 'Tata Indica Vista Aqua 1.4 TDI',\n",
       " 'Chevrolet Tavera Neo 2 LS B4 7 Str BSIII',\n",
       " 'Chevrolet Cruze LTZ',\n",
       " 'Ford Figo Aspire 1.2 Ti-VCT Titanium Plus',\n",
       " 'Ford EcoSport 1.5 Diesel Titanium Plus BSIV',\n",
       " 'Hyundai i10 Sportz 1.1L',\n",
       " 'Maruti 800 Std',\n",
       " 'Chevrolet Spark 1.0 LS',\n",
       " 'Hyundai EON Era Plus',\n",
       " 'Tata Indica Vista Aqua TDI BSIII',\n",
       " 'Hyundai Santro LP zipPlus',\n",
       " 'Tata Bolt Quadrajet XE',\n",
       " 'Maruti 800 AC BSIII',\n",
       " 'Hyundai i20 Magna 1.2',\n",
       " 'Hyundai i20 1.2 Asta',\n",
       " 'Maruti Ciaz VDi Plus',\n",
       " 'Hyundai i20 Asta 1.4 CRDi',\n",
       " 'Hyundai Santro LE',\n",
       " 'Maruti Vitara Brezza VDi',\n",
       " 'Hyundai Santro Xing XL eRLX Euro III',\n",
       " 'Hyundai Getz 1.3 GLS',\n",
       " 'Mahindra Quanto C8',\n",
       " 'Chevrolet Tavera Neo 3 LS 7 C BSIII',\n",
       " 'Maruti Wagon R DUO LPG',\n",
       " 'Maruti Wagon R LXI',\n",
       " 'Chevrolet Enjoy 1.3 TCDi LS 8',\n",
       " 'Honda City i VTEC SV',\n",
       " 'Jaguar XJ 5.0 L V8 Supercharged',\n",
       " 'Honda Brio E MT',\n",
       " 'Maruti Swift VVT ZXI',\n",
       " 'Tata Indigo CR4',\n",
       " 'Hyundai i10 Asta AT',\n",
       " 'Chevrolet Beat LT',\n",
       " 'Maruti Swift VDI BSIV',\n",
       " 'Renault Duster 110PS Diesel RxZ',\n",
       " 'Hyundai Santro Xing XG',\n",
       " 'Maruti Swift Dzire ZXI Plus',\n",
       " 'Maruti Alto K10 LXI CNG',\n",
       " 'Maruti 800 Std BSII',\n",
       " 'Tata Nano LX SE',\n",
       " 'Skoda Rapid 1.6 MPI Ambition With Alloy Wheel',\n",
       " 'Maruti Alto K10 VXI',\n",
       " 'Maruti Ciaz 1.4 Delta',\n",
       " 'Maruti Alto LX',\n",
       " 'Hyundai i20 Asta',\n",
       " 'Tata Nexon 1.2 Revotron XM',\n",
       " 'Maruti Zen D',\n",
       " 'Volkswagen Vento Celeste 1.5 TDI Highline AT',\n",
       " 'Maruti Eeco 7 Seater Standard BSIV',\n",
       " 'Honda City 1.5 EXI',\n",
       " 'Maruti SX4 Zxi with Leather BSIII',\n",
       " 'Ford Figo Diesel Titanium',\n",
       " 'Maruti Swift Dzire VDi',\n",
       " 'Mahindra Xylo E4',\n",
       " 'Maruti Esteem Vxi - BSIII',\n",
       " 'Hyundai i20 1.2 Sportz',\n",
       " 'Chevrolet Beat Diesel LT',\n",
       " 'Chevrolet Cruze LTZ AT',\n",
       " 'Nissan Micra XL',\n",
       " 'BMW 5 Series 520d Luxury Line',\n",
       " 'Hyundai EON Era Plus Option',\n",
       " 'Fiat Linea T Jet Emotion',\n",
       " 'Renault Scala RxL',\n",
       " 'Ford Figo Petrol Titanium',\n",
       " 'Maruti Ciaz ZDi SHVS',\n",
       " 'Skoda Rapid 1.5 TDI Ambition BSIV',\n",
       " 'Mahindra XUV500 W6 2WD',\n",
       " 'Mahindra XUV300 W8 Option',\n",
       " 'Maruti Ertiga SHVS ZDI',\n",
       " 'Nissan Terrano XE D',\n",
       " 'Maruti S-Cross Facelift',\n",
       " 'Hyundai i20 Magna 1.4 CRDi (Diesel)',\n",
       " 'Mercedes-Benz New C-Class C 220 CDI BE Avantgare',\n",
       " 'Volkswagen Ameo 1.5 TDI Highline',\n",
       " 'Maruti Omni LPG CARGO BSIII W IMMOBILISER',\n",
       " 'Hyundai Verna i (Petrol)',\n",
       " 'Mahindra Renault Logan 1.5 DLS',\n",
       " 'Chevrolet Optra Magnum 2.0 LS BSIII',\n",
       " 'Mahindra Scorpio S11 BSIV',\n",
       " 'Hyundai i20 Active 1.2 SX',\n",
       " 'Maruti SX4 Celebration Diesel',\n",
       " 'Hyundai Grand i10 Magna',\n",
       " 'Maruti Alto LXi BSIII',\n",
       " 'Hyundai i10 Era',\n",
       " 'Toyota Innova 2.5 V Diesel 7-seater',\n",
       " 'Honda Mobilio V i DTEC',\n",
       " 'Toyota Innova 2.5 G (Diesel) 7 Seater BS IV',\n",
       " 'Tata Indica V2 2001-2011 DLS BSIII',\n",
       " 'Tata Indica Vista TDI LS',\n",
       " 'Chevrolet Beat Diesel LS',\n",
       " 'Tata Zest Quadrajet 1.3 75PS XE',\n",
       " 'Skoda Fabia 1.2L Diesel Ambiente',\n",
       " 'Toyota Innova 2.5 VX (Diesel) 8 Seater',\n",
       " 'Hyundai Grand i10 1.2 CRDi Asta',\n",
       " 'Datsun GO Plus T Option Petrol',\n",
       " 'Maruti Omni MPI STD BSIV',\n",
       " 'Maruti Baleno Alpha 1.2',\n",
       " 'Ford Fiesta Classic 1.4 SXI Duratorq',\n",
       " 'Hyundai Elite i20 Asta Option BSIV',\n",
       " 'Hyundai Grand i10 CRDi Magna',\n",
       " 'Hyundai Santro Xing GL Plus',\n",
       " 'Tata Sumo GX TC 7 Str BSIII',\n",
       " 'Maruti Vitara Brezza LDi Option',\n",
       " 'Honda Jazz S',\n",
       " 'Hyundai i20 1.4 Sportz',\n",
       " 'Maruti Ertiga SHVS ZDI Plus',\n",
       " 'Tata Sumo SE Plus BSIII',\n",
       " 'Maruti Ertiga VXI',\n",
       " 'Hyundai i20 1.4 Magna ABS',\n",
       " 'Hyundai Getz GL',\n",
       " 'Maruti Wagon R LX BS IV',\n",
       " 'Hyundai i20 1.2 Spotz',\n",
       " 'Maruti Alto 800 VXI',\n",
       " 'Hyundai i20 Asta (o)',\n",
       " 'Hyundai Verna 1.6 SX CRDi (O)',\n",
       " 'Mahindra Xylo D2 BSIV',\n",
       " 'Mahindra Bolero SLX 2WD BSIII',\n",
       " 'Maruti Ertiga VXI ABS',\n",
       " 'Honda Brio 1.2 E MT',\n",
       " 'Toyota Etios Liva G',\n",
       " 'Maruti Alto 800 LXI',\n",
       " 'Maruti Swift Dzire 1.2 Vxi BSIV',\n",
       " 'Mahindra Scorpio VLS AT 2.2 mHAWK',\n",
       " 'Mahindra Bolero SLX',\n",
       " 'Mahindra XUV500 W11 Option AWD',\n",
       " 'Tata Tiago 1.2 Revotron XZ',\n",
       " 'Mahindra Marazzo M8 8Str',\n",
       " 'Renault Duster 110PS Diesel RxL',\n",
       " 'Maruti Wagon R VXI',\n",
       " 'Chevrolet Spark 1.0 LT',\n",
       " 'Maruti Baleno Alpha',\n",
       " 'Hyundai EON 1.0 Kappa Magna Plus',\n",
       " 'Ford Figo Aspire 1.2 Ti-VCT Trend',\n",
       " 'Ford Figo Aspire Facelift',\n",
       " 'Hyundai Verna 1.4 VTVT',\n",
       " 'Chevrolet Sail 1.2 LT ABS',\n",
       " 'Honda City i-DTEC SV',\n",
       " 'Mahindra Bolero Power Plus Plus AC BSIV PS',\n",
       " 'Hyundai Grand i10 1.2 Kappa Sportz Option',\n",
       " 'Maruti Baleno Sigma 1.2',\n",
       " 'Maruti A-Star Vxi',\n",
       " 'Datsun GO A',\n",
       " 'Skoda Yeti Ambition 4WD',\n",
       " 'Maruti Zen LXi BSII',\n",
       " 'Hyundai Verna CRDi 1.6 EX',\n",
       " 'Ford Aspire Titanium Diesel BSIV',\n",
       " 'BMW 3 Series 320d Sport',\n",
       " 'BMW X1 sDrive 20d Exclusive',\n",
       " 'Toyota Innova Crysta 2.4 VX MT',\n",
       " 'Chevrolet Tavera Neo 3 10 Seats BSIV',\n",
       " 'Mitsubishi Outlander 2.4',\n",
       " 'Maruti Baleno Alpha 1.3',\n",
       " 'Ford Figo Aspire 1.5 TDCi Titanium',\n",
       " 'Ford Endeavour Titanium 4X2',\n",
       " 'Mahindra Scorpio 2.6 Turbo 9 Str',\n",
       " 'Maruti Baleno Vxi',\n",
       " 'Tata Indica DLX',\n",
       " 'Tata Indica LSI',\n",
       " 'Toyota Etios Liva GD',\n",
       " 'Tata Nano STD',\n",
       " 'Hyundai Grand i10 Sportz',\n",
       " 'Mahindra Scorpio S7 140 BSIV',\n",
       " 'Volkswagen Polo Petrol Comfortline 1.2L',\n",
       " 'Hyundai Xcent 1.1 CRDi Base',\n",
       " 'Chevrolet Beat Diesel PS',\n",
       " 'Maruti Swift ZXi BSIV',\n",
       " 'Maruti Ritz VDi',\n",
       " 'Tata Indigo CS Emax CNG GLX',\n",
       " 'Maruti Eeco 5 STR With AC Plus HTR CNG',\n",
       " 'Maruti Estilo LXI',\n",
       " 'Maruti Swift VXI with ABS',\n",
       " 'Tata Zest Quadrajet 1.3 XM',\n",
       " 'Maruti Alto K10 VXI AGS Optional',\n",
       " 'Mahindra Scorpio SLE BSIV',\n",
       " 'Hyundai Santro Xing GLS CNG',\n",
       " 'Ford Figo Diesel Celebration Edition',\n",
       " 'Renault KWID RXT Optional',\n",
       " 'Renault KWID 1.0 RXT Optional',\n",
       " 'Skoda Rapid 1.5 TDI AT Style BSIV',\n",
       " 'Chevrolet Spark 1.0',\n",
       " 'Ford Fiesta 1.6 ZXi Duratec',\n",
       " 'Tata Manza Aura Quadrajet BS IV',\n",
       " 'Maruti Swift VVT VXI',\n",
       " 'Hyundai i20 Sportz Petrol',\n",
       " 'Maruti Zen Estilo VXI BSIV',\n",
       " 'Toyota Innova 2.5 G (Diesel) 8 Seater BS IV',\n",
       " 'Tata Tiago 1.2 Revotron XZA',\n",
       " 'Maruti Vitara Brezza ZDi',\n",
       " 'Maruti Swift VXI BSIII',\n",
       " 'Maruti Swift VXI BSIV',\n",
       " 'Hyundai i20 Active 1.2 S',\n",
       " 'Hyundai Santro GLS I - Euro I',\n",
       " 'Tata Safari Storme VX',\n",
       " 'Mahindra Scorpio REV 116',\n",
       " 'Datsun GO Plus A',\n",
       " 'Toyota Fortuner 4x4 MT',\n",
       " 'Ford Ecosport 1.5 DV5 MT Titanium',\n",
       " 'Mahindra XUV500 W11 AT BSIV',\n",
       " 'Mahindra Supro VX 8 Str',\n",
       " 'Ford Endeavour 2.5L 4X2 MT',\n",
       " 'Mahindra KUV 100 D75 K2',\n",
       " 'Maruti Swift Glam',\n",
       " 'Tata New Safari DICOR 2.2 EX 4x2',\n",
       " 'Honda Brio 1.2 VX MT',\n",
       " 'Chevrolet Sail Hatchback LS ABS',\n",
       " 'Tata Tiago NRG Petrol',\n",
       " 'Maruti Vitara Brezza ZDi Plus',\n",
       " 'Hyundai Santro Era',\n",
       " 'Honda City i-DTEC V',\n",
       " 'Hyundai Verna 1.6 CRDI',\n",
       " 'Hyundai EON D Lite Plus',\n",
       " 'Ford Endeavour 4x4 XLT',\n",
       " 'Volkswagen Jetta 2.0 TDI Trendline',\n",
       " 'Volkswagen Polo 1.5 TDI Highline',\n",
       " 'Hyundai i20 Asta 1.2',\n",
       " 'Renault Duster 85PS Diesel RxE',\n",
       " 'Maruti Omni E MPI STD BS IV',\n",
       " 'Honda Brio S Option AT',\n",
       " 'Honda Accord 2.4 MT',\n",
       " 'Ford Figo 1.2P Ambiente MT',\n",
       " 'Tata Nano Lx',\n",
       " 'Tata Indigo LS Dicor',\n",
       " 'Tata Indica Vista Terra 1.4 TDI',\n",
       " 'Maruti Zen VXI',\n",
       " 'Chevrolet Beat LS',\n",
       " 'Maruti Swift VDI',\n",
       " 'Maruti Wagon R AMT VXI',\n",
       " 'Mahindra TUV 300 T4 Plus',\n",
       " 'Maruti 800 AC BSII',\n",
       " 'Hyundai Santro Magna BSIV',\n",
       " 'Tata Zest Revotron 1.2 XT',\n",
       " 'Mahindra XUV500 W11 Option AT AWD',\n",
       " 'Volkswagen Polo Diesel Trendline 1.2L',\n",
       " 'Hyundai Verna CRDi',\n",
       " 'Tata Indica Vista Quadrajet LX',\n",
       " 'Renault Duster 85PS Diesel RxL',\n",
       " 'Hyundai i10 Era 1.1',\n",
       " 'Maruti Swift Dzire ZDI',\n",
       " 'Ford Figo Diesel ZXI',\n",
       " 'Maruti Wagon R LXI BSIII',\n",
       " 'Maruti Swift Ldi BSIV',\n",
       " 'Volkswagen Vento Diesel Highline',\n",
       " 'Datsun GO Plus T Option BSIV',\n",
       " 'Maruti Alto K10 VXI Airbag',\n",
       " 'Hyundai EON LPG Magna Plus',\n",
       " 'Mahindra Bolero DI DX 7 Seater',\n",
       " 'Maruti Ertiga BSIV ZXI',\n",
       " 'Honda BR-V i-VTEC S MT',\n",
       " 'Toyota Etios VD',\n",
       " 'Hyundai Santro Xing GLS Audio LPG',\n",
       " 'Ford Figo 1.2P Titanium MT',\n",
       " 'Fiat Avventura Urban Cross 1.3 Multijet Emotion',\n",
       " 'Ford EcoSport 1.5 TDCi Titanium BSIV',\n",
       " 'Maruti Swift Ldi BSIII',\n",
       " 'Ford Fiesta Classic 1.4 Duratorq CLXI',\n",
       " 'Ford Figo Titanium Diesel BSIV',\n",
       " 'Ford Ikon 1.3L Rocam Flair',\n",
       " 'Fiat Punto 1.3 Emotion',\n",
       " 'Honda WR-V i-DTEC V',\n",
       " 'Skoda Laura L n K 1.9 PD',\n",
       " 'Maruti Ritz LDi',\n",
       " 'Mahindra Xylo D2',\n",
       " 'Honda City i DTEC S',\n",
       " 'Mahindra Scorpio 1.99 S4',\n",
       " 'Tata Indigo Grand Dicor',\n",
       " 'Honda Amaze EX i-Dtech',\n",
       " 'Hyundai Creta 1.6 CRDi SX Plus',\n",
       " 'Toyota Etios GD SP',\n",
       " 'Maruti SX4 S Cross DDiS 320 Delta',\n",
       " 'Toyota Fortuner 2.8 4WD AT BSIV',\n",
       " 'Maruti Ciaz VDi Option SHVS',\n",
       " 'Mahindra Scorpio VLX 2WD AIRBAG SE BSIV',\n",
       " 'Hyundai Tucson 2.0 e-VGT 2WD MT',\n",
       " 'Jaguar XF 5.0 Litre V8 Petrol',\n",
       " 'Hyundai Creta 1.6 VTVT AT SX Plus',\n",
       " 'Hyundai Verna VTVT 1.6 AT SX Option',\n",
       " 'Mercedes-Benz GL-Class 350 CDI Blue Efficiency',\n",
       " 'Maruti Swift ZXI BSIV',\n",
       " 'Maruti S-Cross Zeta DDiS 200 SH',\n",
       " 'Hyundai Verna 1.6 VTVT SX',\n",
       " 'Volkswagen Polo GTI',\n",
       " 'Renault Pulse RxL',\n",
       " 'Maruti Celerio VXI AMT BSIV',\n",
       " 'Honda Brio V MT',\n",
       " 'Hyundai Creta 1.6 SX Automatic Diesel',\n",
       " 'Honda City i VTEC V',\n",
       " 'Toyota Innova Crysta 2.4 GX AT',\n",
       " 'BMW 3 Series 320d Luxury Line',\n",
       " 'Mercedes-Benz C-Class Progressive C 220d',\n",
       " 'Audi A4 3.0 TDI Quattro',\n",
       " 'BMW X5 xDrive 30d xLine',\n",
       " 'Maruti SX4 Vxi BSIV',\n",
       " 'Hyundai Grand i10 1.2 Kappa Magna AT',\n",
       " 'Hyundai Grand i10 Magna AT',\n",
       " 'Chevrolet Beat LT Option',\n",
       " 'Toyota Fortuner 4x2 AT',\n",
       " 'Hyundai i10 Magna',\n",
       " 'Hyundai Santro GS',\n",
       " 'Skoda Laura Ambiente 2.0 TDI CR MT',\n",
       " 'Hyundai i20 Sportz 1.2',\n",
       " 'Maruti Gypsy E MG410W ST',\n",
       " 'Tata Nexon 1.5 Revotorq XZ',\n",
       " 'Mahindra Verito 1.5 D4 BSIV',\n",
       " 'Chevrolet Tavera LS B3 7 Seats BSII',\n",
       " 'Chevrolet Optra Magnum 2.0 LS',\n",
       " 'Maruti Eeco 5 Seater Standard BSIV',\n",
       " 'Honda Civic 1.8 MT Sport',\n",
       " 'Tata Hexa XT 4X4',\n",
       " 'Tata Indica Vista Quadrajet VX',\n",
       " 'Mahindra Scorpio 2.6 CRDe SLE',\n",
       " 'Maruti Zen Estilo LXI BSIII',\n",
       " 'Maruti Swift Dzire AMT ZXI Plus BS IV',\n",
       " 'Honda Amaze S AT i-Vtech',\n",
       " 'Maruti Swift VXI',\n",
       " 'Mahindra Renault Logan 1.4 GLX Petrol',\n",
       " 'Hyundai i10 Magna LPG',\n",
       " 'Tata Venture EX',\n",
       " 'Chevrolet Captiva LT',\n",
       " 'Chevrolet Aveo U-VA 1.2 LS',\n",
       " 'Maruti Ciaz Zeta BSIV',\n",
       " 'Tata Hexa XM',\n",
       " 'Hyundai Santro Xing GL PLUS CNG',\n",
       " 'Mahindra Thar CRDe ABS',\n",
       " 'Maruti Alto K10 2010-2014 VXI',\n",
       " 'Maruti Alto K10 LXI',\n",
       " 'Honda City 1.5 V AT',\n",
       " 'Maruti Ritz LXI',\n",
       " 'Honda Jazz VX',\n",
       " 'Mahindra Scorpio SLE BSIII',\n",
       " 'Skoda Rapid 1.6 MPI AT Elegance Plus',\n",
       " 'Tata Nano LX',\n",
       " 'Maruti Zen Estilo 1.1 VXI BSIII',\n",
       " 'Maruti Wagon R LX Minor',\n",
       " 'Skoda Octavia Classic 1.9 TDI MT',\n",
       " 'Maruti Swift AMT VXI',\n",
       " 'Honda Amaze SX i-VTEC',\n",
       " 'Hyundai Grand i10 Nios Magna CRDi',\n",
       " 'Volkswagen Jetta 1.9 L TDI',\n",
       " 'Hyundai Xcent 1.1 CRDi SX Option',\n",
       " 'Hyundai Santro Xing GL Plus LPG',\n",
       " 'Hyundai Accent Executive',\n",
       " 'Maruti Celerio VXI AT',\n",
       " 'Hyundai Creta 1.6 CRDi AT SX Plus',\n",
       " 'Maruti Ertiga VXI CNG',\n",
       " 'Hyundai Verna 1.6 SX VTVT',\n",
       " 'Hyundai Grand i10 1.2 Kappa Sportz Dual Tone',\n",
       " 'Toyota Etios V',\n",
       " 'Volkswagen Vento Petrol Highline AT',\n",
       " 'Volkswagen Polo Diesel Highline 1.2L',\n",
       " 'Mahindra KUV 100 mFALCON D75 K8',\n",
       " 'Audi A4 New  2.0 TDI Multitronic',\n",
       " 'Volkswagen Polo Petrol Highline 1.2L',\n",
       " 'Skoda Rapid 1.6 MPI Active',\n",
       " 'Maruti Ertiga ZDI',\n",
       " 'Maruti Wagon R Stingray LXI',\n",
       " 'Skoda Superb 1.8 TSI',\n",
       " 'Tata Indigo LS',\n",
       " 'Land Rover Discovery Sport TD4 HSE 7S',\n",
       " 'Tata Sumo GX TC 8 Str',\n",
       " 'Hyundai i20 Magna',\n",
       " 'Hyundai Verna CRDi 1.6 SX Option',\n",
       " 'Tata Tiago XZA AMT',\n",
       " 'Toyota Innova Crysta 2.4 VX MT BSIV',\n",
       " 'Hyundai Grand i10 AT Asta',\n",
       " 'Maruti Ciaz VXi',\n",
       " 'Mahindra XUV500 W8 4WD',\n",
       " 'Renault Lodgy 85PS RxL',\n",
       " 'Mahindra Scorpio S6 Plus 7 Seater',\n",
       " 'Maruti Swift LDI BSIV',\n",
       " 'Hyundai i20 2015-2017 Magna 1.2',\n",
       " 'Maruti Wagon R LXI BS IV',\n",
       " 'Mahindra Bolero 2011-2019 SLX 2WD BSIII',\n",
       " 'Toyota Innova Crysta 2.8 ZX AT BSIV',\n",
       " 'Maruti Ciaz VDI SHVS',\n",
       " 'Tata Indica GLS BS IV',\n",
       " 'Honda City i DTec SV',\n",
       " 'Maruti Swift LXI',\n",
       " 'Maruti Zen LXI',\n",
       " 'Honda WR-V i-VTEC VX',\n",
       " 'Toyota Fortuner 2.8 2WD AT BSIV',\n",
       " 'Toyota Innova Crysta 2.4 ZX MT',\n",
       " 'Volkswagen Polo 1.5 TDI Trendline',\n",
       " 'Mahindra Verito Vibe 1.5 dCi D4',\n",
       " 'Volkswagen Vento Magnific 1.6 Highline',\n",
       " 'Maruti Swift Dzire LDI',\n",
       " 'Tata New Safari DICOR 2.2 GX 4x2',\n",
       " 'Maruti SX4 ZDI',\n",
       " 'Hyundai Verna 1.6 SX VTVT (O)',\n",
       " 'Fiat Grande Punto 1.3 Dynamic (Diesel)',\n",
       " 'Maruti Wagon R Stingray VXI',\n",
       " 'Toyota Etios Liva 1.4 VD',\n",
       " 'Hyundai Xcent 1.2 Kappa SX',\n",
       " 'Honda Amaze VX O iDTEC',\n",
       " 'Maruti Ciaz 1.4 AT Zeta',\n",
       " 'Mahindra Scorpio S4 4WD',\n",
       " 'Maruti Swift 1.3 VXI ABS',\n",
       " 'Ford Ecosport 1.0 Ecoboost Titanium Optional',\n",
       " 'Renault KWID Climber 1.0 AMT BSIV',\n",
       " 'Renault KWID RXL BSIV',\n",
       " 'Hyundai EON 1.0 Era Plus',\n",
       " 'Toyota Innova 2.5 G (Diesel) 8 Seater',\n",
       " 'Toyota Innova 2.5 G4 Diesel 8-seater',\n",
       " 'Mahindra KUV 100 G80 K2',\n",
       " 'Hyundai i20 1.4 Asta Option',\n",
       " 'Renault KWID RXL',\n",
       " 'Maruti Celerio ZXI Optional AMT BSIV',\n",
       " 'Fiat Palio D 1.9 EL PS',\n",
       " 'Fiat Linea Classic 1.3 Multijet',\n",
       " 'Maruti Alto 800 CNG LXI',\n",
       " 'Maruti Swift Dzire VXi',\n",
       " 'Hyundai Grand i10 1.2 Kappa Sportz BSIV',\n",
       " 'Honda Brio 1.2 S MT',\n",
       " 'Tata Zest Revotron 1.2T XE',\n",
       " 'Hyundai Creta 1.4 CRDi Base',\n",
       " 'Mercedes-Benz M-Class ML 350 CDI',\n",
       " 'Toyota Innova Crysta 2.4 GX MT 8S BSIV',\n",
       " 'Tata New Safari DICOR 2.2 EX 4x4',\n",
       " 'Mahindra Marazzo M4',\n",
       " 'Toyota Etios Cross 1.2L G',\n",
       " 'Mahindra KUV 100 mFALCON D75 K8 AW',\n",
       " 'Maruti Swift Dzire VXI',\n",
       " 'Hyundai i20 Asta 1.4 CRDi (Diesel)',\n",
       " 'Toyota Innova 2.0 GX 8 STR BSIV',\n",
       " 'Tata Hexa XTA',\n",
       " 'Hyundai Verna 1.6 SX VTVT AT',\n",
       " 'Maruti Swift Dzire VXI 1.2 BS IV',\n",
       " 'Maruti SX4 ZDI Leather',\n",
       " 'Maruti Ignis 1.2 Alpha BSIV',\n",
       " 'Honda Mobilio V i VTEC',\n",
       " 'Hyundai Getz 1.3 GVS',\n",
       " 'Ford Fiesta Titanium 1.5 TDCi',\n",
       " 'Hyundai Accent GLE CNG',\n",
       " 'Tata Tigor 1.2 Revotron XM',\n",
       " 'Hyundai i10 Magna 1.1',\n",
       " 'Nissan Sunny Diesel XV',\n",
       " 'Tata Nano Std',\n",
       " 'Chevrolet Tavera LT L1 7 Seats BSIII',\n",
       " 'Mahindra Verito 1.5 D2 BSIV',\n",
       " 'Hyundai EON D Lite',\n",
       " 'Toyota Innova 2.5 GX (Diesel) 7 Seater',\n",
       " 'Nissan Terrano XV Premium 110 PS',\n",
       " 'Nissan Sunny XV D Premium Leather',\n",
       " 'Mahindra Bolero 2011-2019 SLX',\n",
       " 'Hyundai Santro Xing XG eRLX Euro III',\n",
       " 'Volkswagen Jetta 2.0L TDI Highline AT',\n",
       " 'Tata Indica Vista Quadrajet 90 VX',\n",
       " 'Honda City VX MT',\n",
       " 'Volkswagen Jetta 1.9 Highline TDI',\n",
       " 'Volkswagen Vento 1.5 TDI Highline Plus AT',\n",
       " 'Maruti Wagon R VXI AMT1.2BSIV',\n",
       " 'Hyundai Grand i10 Asta',\n",
       " 'Volkswagen Polo 1.0 MPI Trendline',\n",
       " 'Hyundai Creta 1.6 CRDi SX Option',\n",
       " 'Hyundai Grand i10 Asta Option',\n",
       " 'Maruti Swift DDiS LDI',\n",
       " 'Hyundai i10 Sportz 1.2 AT',\n",
       " 'Volkswagen Vento 1.5 TDI Comfortline',\n",
       " 'Skoda Rapid 1.5 TDI AT Ambition',\n",
       " 'Hyundai Getz GLE',\n",
       " 'Mahindra Scorpio M2DI',\n",
       " 'Ford Endeavour XLT TDCi 4X2',\n",
       " 'Audi Q3 35 TDI Quattro Technology',\n",
       " 'Audi A5 Sportback',\n",
       " 'Chevrolet Sail Hatchback 1.3 TCDi LT ABS',\n",
       " 'Hyundai Accent CRDi',\n",
       " 'BMW 7 Series Signature 730Ld',\n",
       " 'Toyota Camry 2.5 Hybrid',\n",
       " 'Mahindra XUV500 W5 BSIV',\n",
       " 'Mahindra XUV300 W8 Option Diesel BSIV',\n",
       " 'Mahindra Thar CRDe',\n",
       " 'Honda Mobilio E i DTEC',\n",
       " 'Maruti Ciaz ZXi Plus',\n",
       " 'Fiat Grande Punto EVO 1.3 Dynamic',\n",
       " 'Ford Endeavour Hurricane Limited Edition',\n",
       " 'Land Rover Discovery S 2.0 SD4',\n",
       " 'Hyundai i10 Era 1.1 iTech SE',\n",
       " 'Maruti Vitara Brezza VDi Option',\n",
       " 'Hyundai i20 Sportz Option 1.2',\n",
       " 'Ford Endeavour 3.0L 4X4 AT',\n",
       " 'Hyundai Santro LE zipPlus',\n",
       " 'Hyundai Creta 1.4 EX Diesel',\n",
       " 'Hyundai Verna CRDi 1.6 SX',\n",
       " 'Tata Indigo LX',\n",
       " 'Mitsubishi Pajero Sport 4X4',\n",
       " 'Ford Fiesta 1.5 TDCi Titanium',\n",
       " 'Honda City i-VTEC CVT ZX',\n",
       " 'BMW 3 Series GT Luxury Line',\n",
       " 'Maruti Baleno Alpha CVT',\n",
       " 'Hyundai i20 1.4 Magna Executive',\n",
       " 'Maruti Baleno Zeta',\n",
       " 'Honda City VTEC',\n",
       " 'Ford Endeavour 3.2 Titanium AT 4X4',\n",
       " 'Tata Xenon XT EX 4X2',\n",
       " 'Nissan Terrano XL Plus 85 PS',\n",
       " 'Ford Ecosport 1.5 DV5 MT Ambiente',\n",
       " 'Skoda Laura Elegance 1.9 TDI  AT',\n",
       " 'Maruti Alto 800 LXI Airbag',\n",
       " 'Mahindra Bolero SLX 2WD',\n",
       " 'Mahindra Jeep MM 540',\n",
       " 'Skoda Octavia Elegance 2.0 TDI AT',\n",
       " 'Honda Jazz 1.5 VX i DTEC',\n",
       " 'Honda City i-VTEC ZX',\n",
       " 'Maruti Vitara Brezza ZDi Plus AMT Dual Tone',\n",
       " 'Maruti Celerio LXI MT BSIV',\n",
       " 'Renault Captur 1.5 Diesel RXT',\n",
       " 'Audi A4 30 TFSI Technology',\n",
       " 'Honda Amaze VX Diesel BSIV',\n",
       " 'Toyota Corolla Altis 1.8 VL AT',\n",
       " 'Honda Amaze VX Petrol BSIV',\n",
       " 'Honda Amaze VX i-VTEC',\n",
       " 'Mahindra KUV 100 mFALCON G80 K2',\n",
       " 'Maruti Zen Estilo Sports',\n",
       " 'Maruti Ertiga ZDI Plus',\n",
       " 'Audi Q3 2.0 TDI Quattro Premium Plus',\n",
       " 'Tata Zest Revotron 1.2T XMS',\n",
       " 'Audi Q5 2.0 TFSI Quattro Premium Plus',\n",
       " 'Datsun GO T Petrol',\n",
       " 'Mahindra Jeep CJ 500 DI',\n",
       " 'Renault Pulse RxZ',\n",
       " 'Land Rover Discovery Sport SD4 HSE Luxury',\n",
       " 'Volkswagen Polo 2015-2019 1.2 MPI Highline',\n",
       " 'Honda City i-VTEC SV',\n",
       " 'Tata Sumo Gold EX',\n",
       " 'Tata Indica DLE',\n",
       " 'Honda City S',\n",
       " 'Mercedes-Benz New C-Class C 220 CDI Grand Edition',\n",
       " 'Toyota Innova 2.5 VX 8 STR',\n",
       " 'Mahindra Xylo D4 BSIV',\n",
       " 'Toyota Innova Crysta 2.5 VX BS IV',\n",
       " 'Hyundai Verna CRDi 1.6 AT SX Option',\n",
       " 'Mahindra Scorpio S2 7 Seater',\n",
       " 'Hyundai i10 Magna 1.2 iTech SE',\n",
       " 'Mahindra Bolero DI',\n",
       " 'Hyundai Santro Xing XS',\n",
       " 'Maruti Esteem VX',\n",
       " 'Honda Amaze S i-Dtech',\n",
       " 'Hyundai Santro Xing XG AT',\n",
       " 'Skoda Yeti Ambition 4X2',\n",
       " 'Maruti Wagon R LXI CNG',\n",
       " 'Hyundai Verna SX',\n",
       " 'Maruti SX4 Celebration Petrol',\n",
       " 'Hyundai i20 Active S Diesel',\n",
       " 'Honda Amaze V CVT Petrol BSIV',\n",
       " 'Maruti Ciaz ZXi',\n",
       " 'Hyundai i20 Active SX Petrol',\n",
       " 'Nissan Terrano XL 85 PS',\n",
       " 'Mahindra Bolero B6',\n",
       " 'Mahindra Scorpio SLE BS IV',\n",
       " 'Maruti Ertiga ZXI',\n",
       " 'Maruti Swift ZDI Plus',\n",
       " 'Maruti Wagon R VXI BSIII',\n",
       " 'Chevrolet Tavera Neo 2 LT L 9 Str',\n",
       " 'Tata Indica Vista Aura Plus 1.3 Quadrajet',\n",
       " 'Renault Duster 85PS Diesel RxL Plus',\n",
       " 'Maruti Swift Dzire Vdi BSIV',\n",
       " 'Volkswagen Polo Diesel Comfortline 1.2L',\n",
       " 'Maruti Gypsy King Hard Top',\n",
       " 'Tata Manza Club Class Quadrajet90 VX',\n",
       " 'Maruti Swift VXI Deca',\n",
       " 'Maruti Ignis 1.2 AMT Delta BSIV',\n",
       " 'Toyota Innova Crysta 2.4 VX MT 8S BSIV',\n",
       " 'Mahindra Bolero Power Plus LX',\n",
       " 'Maruti Swift 1.2 DLX',\n",
       " 'Mahindra KUV 100 mFALCON D75 K6',\n",
       " 'Tata Nano Cx BSIV',\n",
       " 'Mahindra TUV 300 T4',\n",
       " 'Tata Safari Storme VX Varicor 400',\n",
       " 'Maruti Baleno Delta Automatic',\n",
       " 'Hyundai i20 Active S Petrol',\n",
       " 'Tata Indica Vista Terra Quadrajet 1.3L',\n",
       " 'Nissan Sunny XL',\n",
       " 'Volkswagen Vento Diesel Style Limited Edition',\n",
       " 'Chevrolet Aveo 1.4 LS',\n",
       " 'Chevrolet Beat PS',\n",
       " 'Honda City E',\n",
       " 'Maruti Wagon R VXI Minor ABS',\n",
       " 'Maruti Omni BSIII 8-STR W/ IMMOBILISER',\n",
       " 'Mahindra Xylo H4 ABS',\n",
       " 'Hyundai Elantra CRDi (Leather Option)',\n",
       " 'Toyota Corolla Altis D-4D J',\n",
       " 'Hyundai i20 1.4 CRDi Era',\n",
       " 'Tata Indica Vista Aqua 1.3 Quadrajet',\n",
       " 'Hyundai Verna XXi (Petrol)',\n",
       " 'Maruti Wagon R LX',\n",
       " 'Hyundai Santro Xing XK (Non-AC)',\n",
       " 'Volkswagen Passat 1.8 TSI MT',\n",
       " 'Ford Figo Diesel LXI',\n",
       " 'Ford EcoSport 1.5 Ti VCT MT Trend BSIV',\n",
       " 'Toyota Corolla Executive (HE)',\n",
       " 'Ford Freestyle Titanium Diesel BSIV',\n",
       " 'Maruti Ignis 1.2 Zeta BSIV',\n",
       " 'Toyota Etios Liva 1.2 G',\n",
       " 'Toyota Corolla H6',\n",
       " 'Renault Duster RXL AWD',\n",
       " 'Volkswagen Polo 1.5 TDI Comfortline',\n",
       " 'Ford Figo Diesel EXI',\n",
       " 'Honda Jazz VX CVT',\n",
       " 'Maruti Swift Dzire Tour LDI',\n",
       " 'Maruti 800 Std MPFi',\n",
       " 'Hyundai Verna 1.6 CRDI SX Option',\n",
       " 'Mercedes-Benz E-Class E250 CDI Blue Efficiency',\n",
       " 'Toyota Etios 1.4 VXD',\n",
       " 'Mahindra Quanto C6',\n",
       " 'Volkswagen Vento 1.5 TDI Highline',\n",
       " 'Maruti Ciaz ZDi',\n",
       " 'Volkswagen Ameo 1.5 TDI Comfortline',\n",
       " 'Tata Nano CX SE',\n",
       " 'Tata Manza Aura Quadrajet',\n",
       " 'Maruti Omni E 8 Str STD',\n",
       " 'Chevrolet Optra 1.6 LS',\n",
       " 'Mahindra TUV 300 T10',\n",
       " 'Mahindra Alturas G4 4X2 AT BSIV',\n",
       " 'Maruti Zen Estilo LX BSIII',\n",
       " 'Tata Indica LXI',\n",
       " 'Maruti Wagon R VXI Optional',\n",
       " 'Tata Sumo Victa CX 7/9 Str BSII',\n",
       " 'Skoda Superb Elegance 2.0 TDI CR AT',\n",
       " 'Jeep Compass 2.0 Longitude Option BSIV',\n",
       " 'Tata Indica DL',\n",
       " 'Ford Fiesta 1.6 ZXi Leather',\n",
       " 'Mahindra Scorpio EX',\n",
       " 'Hyundai Santro Xing XL AT eRLX Euro III',\n",
       " 'Mahindra Thar DI 4X4 PS',\n",
       " 'Hyundai Grand i10 1.2 Kappa Magna BSIV',\n",
       " 'Ford Fiesta 1.4 Duratec ZXI',\n",
       " 'Hyundai i20 Asta Option 1.4 CRDi',\n",
       " 'Maruti Swift Dzire LXI',\n",
       " 'Maruti 800 EX',\n",
       " 'Renault KWID Climber 1.0 AMT',\n",
       " 'Mahindra Bolero Power Plus SLE',\n",
       " 'Hyundai Xcent 1.2 VTVT S',\n",
       " 'Maruti Wagon R LXI LPG BSIV',\n",
       " 'Nissan Micra Diesel XV Premium',\n",
       " 'Maruti Zen LXi - BS III',\n",
       " 'Honda City i DTEC SV',\n",
       " 'Toyota Innova 2.5 VX (Diesel) 7 Seater',\n",
       " 'Honda Civic 1.8 (E) MT',\n",
       " 'Maruti Zen Estilo 1.1 LXI BSIII',\n",
       " 'Honda City 1.5 V MT',\n",
       " 'Tata Manza ELAN Quadrajet BS IV',\n",
       " 'Mahindra Xylo E4 ABS BS IV',\n",
       " 'Honda WR-V i-DTEC VX',\n",
       " 'Nissan Terrano XL 110 PS',\n",
       " 'Honda Amaze S CVT Petrol',\n",
       " 'Maruti Esteem Lxi',\n",
       " 'Toyota Corolla Altis Diesel D4DGL',\n",
       " 'Tata Indica Vista Aura 1.2 Safire',\n",
       " 'Mahindra Bolero SLE',\n",
       " 'Hyundai Elite i20 Asta Option CVT BSIV',\n",
       " 'Hyundai Creta 1.4 E Plus',\n",
       " 'Honda Jazz 1.5 E i DTEC',\n",
       " 'Tata Aria Pure LX 4x2',\n",
       " 'Ford Freestyle Trend Petrol BSIV',\n",
       " 'Mahindra Jeep MM 775 XDB',\n",
       " 'Hyundai Grand i10 1.2 CRDi Magna',\n",
       " 'Maruti Zen Estilo LX BSIV',\n",
       " 'Maruti 800 DX',\n",
       " 'Honda City 1.5 GXI',\n",
       " 'Honda CR-V Diesel 4WD',\n",
       " 'Maruti Ertiga BSIV VXI AT',\n",
       " 'Volkswagen Polo 1.0 TSI Highline Plus',\n",
       " 'Audi A4 35 TDI Premium',\n",
       " 'Hyundai Xcent 1.1 CRDi SX',\n",
       " 'Mahindra Scorpio 2.6 SLX Turbo 7 Seater',\n",
       " 'Ford Ecosport 1.0 Ecoboost Titanium',\n",
       " 'Jaguar XF 3.0 Litre S Premium Luxury',\n",
       " 'Maruti Zen Estilo VXI BSIII',\n",
       " 'Toyota Innova 2.5 E 8 STR',\n",
       " 'Hyundai i20 1.4 CRDi Asta',\n",
       " 'Nissan Micra XL CVT',\n",
       " 'Mahindra Scorpio VLX AT 2WD BSIII',\n",
       " 'Toyota Corolla AE',\n",
       " 'Hyundai Grand i10 Nios Sportz',\n",
       " 'Chevrolet Tavera Neo 3 LT 9 Seats BSIII',\n",
       " 'Hyundai Grand i10 Nios AMT Magna',\n",
       " 'Hyundai Verna 1.6 VTVT S',\n",
       " 'Tata Manza Aqua Quadrajet BS IV',\n",
       " 'Maruti Wagon R LX BSIII',\n",
       " 'Toyota Etios Cross 1.4L GD',\n",
       " 'Renault KWID RXT BSIV',\n",
       " 'Daewoo Matiz SD',\n",
       " 'Tata Hexa XT',\n",
       " 'Honda Jazz V',\n",
       " 'Maruti A-Star Lxi',\n",
       " 'Audi A8 L 3.0 TDI quattro',\n",
       " 'Hyundai Elantra SX',\n",
       " 'Datsun redi-GO AMT 1.0 T Option',\n",
       " 'Tata Nano Cx BSIII',\n",
       " 'BMW X1 sDrive20d M Sport',\n",
       " 'Chevrolet Enjoy TCDi LT 7 Seater',\n",
       " 'Honda Amaze S Diesel',\n",
       " 'Mahindra KUV 100 D75 K6 Plus',\n",
       " 'Honda City i-VTEC CVT VX',\n",
       " 'Honda Brio VX',\n",
       " 'MG Hector Sharp Diesel MT BSIV',\n",
       " 'Audi A4 35 TDI Premium Plus',\n",
       " 'Renault Scala Diesel RxL',\n",
       " 'Skoda Laura Ambiente 1.9 PD',\n",
       " 'Ford Fiesta Diesel Style',\n",
       " 'Skoda Laura 1.9 TDI MT Ambiente',\n",
       " 'Toyota Innova 2.5 VX (Diesel) 7 Seater BS IV',\n",
       " 'Mercedes-Benz E-Class 220 CDI',\n",
       " 'Ford Figo Aspire 1.5 TDCi Trend',\n",
       " 'Tata Indigo GLX',\n",
       " 'Maruti Swift Dzire LDI Optional',\n",
       " 'Ford EcoSport 1.5 Diesel Ambiente BSIV',\n",
       " 'Skoda Rapid 1.6 TDI Elegance',\n",
       " 'Hyundai i20 1.4 CRDi Sportz',\n",
       " 'Chevrolet Aveo 1.4 LT BSIV',\n",
       " 'Mahindra Quanto C4',\n",
       " 'Honda Mobilio S i DTEC',\n",
       " 'Hyundai Santa Fe 4WD AT',\n",
       " 'Tata Manza Aura (ABS) Safire BS IV',\n",
       " 'Force One EX',\n",
       " 'Mahindra Xylo D2 BS IV',\n",
       " 'Hyundai Santro Magna AMT BSIV',\n",
       " 'Tata Indigo LS BSII',\n",
       " 'Hyundai Verna CRDi SX ABS',\n",
       " 'Tata New Safari DICOR 2.2 GX 4x2 BS IV',\n",
       " 'Tata Indica Vista Aura 1.3 Quadrajet',\n",
       " 'Mahindra Bolero Power Plus Plus Non AC BSIV PS',\n",
       " 'Mahindra Scorpio VLX 2WD AIRBAG BSIV',\n",
       " 'Toyota Innova 2.5 Z Diesel 7 Seater BS IV',\n",
       " 'Honda Brio 1.2 S Option MT',\n",
       " 'Hyundai Santro Sportz BSIV',\n",
       " 'Fiat Linea Dynamic',\n",
       " 'Maruti Alto 800 LX',\n",
       " 'Maruti SX4 S Cross DDiS 320 Zeta',\n",
       " 'Mahindra Jeep Classic',\n",
       " 'Mahindra Scorpio 2.6 Turbo 7 Str',\n",
       " 'Toyota Innova 2.5 GX (Diesel) 7 Seater BS IV',\n",
       " 'Ford Figo Petrol LXI',\n",
       " 'Maruti Swift ZXI ABS',\n",
       " 'Mahindra XUV500 W6 1.99 mHawk',\n",
       " 'Maruti Alto K10 LX',\n",
       " 'Maruti Wagon R VX',\n",
       " 'Tata Indica Vista Aqua 1.2 Safire BSIV',\n",
       " 'Honda Civic 1.8 S AT',\n",
       " 'Mahindra NuvoSport N8',\n",
       " 'Hyundai Verna Transform CRDi VGT SX ABS',\n",
       " 'Volkswagen Vento New Diesel Highline',\n",
       " 'Maruti S-Presso VXI Plus',\n",
       " 'Honda Civic 1.8 S MT',\n",
       " 'Toyota Etios Liva 1.2 VX',\n",
       " 'Toyota Yaris G',\n",
       " 'Maruti Swift LXI Option',\n",
       " 'Maruti Ciaz ZDi Plus',\n",
       " 'Maruti Ciaz 1.4 Alpha',\n",
       " 'Toyota Corolla Altis GL MT',\n",
       " 'Maruti Esteem Lxi - BSIII',\n",
       " 'Volkswagen Vento Diesel Comfortline',\n",
       " 'Maruti SX4 ZXI AT',\n",
       " 'Maruti Swift Dzire AMT ZXI',\n",
       " 'Mahindra TUV 300 T8 AMT',\n",
       " 'Ford Fusion 1.6 Duratec Petrol',\n",
       " 'Honda City i-VTEC VX',\n",
       " 'Maruti Esteem Vxi',\n",
       " 'Hyundai Verna 1.6 VTVT',\n",
       " 'Tata Sumo Victa EX 7/9 Str BSII',\n",
       " 'Chevrolet Sail Hatchback 1.2 LS',\n",
       " 'Mahindra Bolero Power Plus ZLX',\n",
       " 'Datsun RediGO S',\n",
       " 'Skoda Fabia 1.2 MPI Ambition Plus',\n",
       " 'Renault Fluence 1.5',\n",
       " 'Maruti Wagon R LXI DUO BS IV',\n",
       " 'Mahindra TUV 300 Plus P4',\n",
       " 'Volkswagen Jetta 2.0 TDI Comfortline',\n",
       " 'Maruti Swift LDI Optional',\n",
       " 'Maruti SX4 VDI',\n",
       " 'Chevrolet Aveo 1.4 CNG',\n",
       " 'Hyundai Elite i20 Magna Plus BSIV',\n",
       " 'Mahindra Thar 4X4',\n",
       " 'Hyundai EON Magna Optional',\n",
       " 'Maruti Omni 5 Str STD LPG',\n",
       " 'Maruti 800 DUO AC LPG',\n",
       " 'Toyota Innova Crysta 2.4 G MT BSIV',\n",
       " 'Hyundai Accent GLX',\n",
       " 'Maruti Swift VDI Optional',\n",
       " 'Hyundai Santro Xing XK eRLX EuroIII',\n",
       " 'Maruti Baleno Zeta 1.2',\n",
       " 'Ford Freestyle Titanium Diesel',\n",
       " 'Ford Figo Titanium',\n",
       " 'Ford Ecosport 1.5 Diesel Titanium',\n",
       " 'Ford Figo 1.5D Titanium Opt MT',\n",
       " 'Toyota Etios VX',\n",
       " 'Hyundai Accent GLS',\n",
       " 'Maruti Ignis 1.3 Delta',\n",
       " 'Tata Indigo CS LX (TDI) BS-III',\n",
       " 'Maruti Alto K10 VXI AGS',\n",
       " 'Nissan Evalia XV',\n",
       " 'Hyundai Grand i10 1.2 CRDi Sportz Option',\n",
       " 'Mahindra KUV 100 D75 K4 Plus 5Str',\n",
       " 'Hyundai Verna SX Diesel',\n",
       " 'Honda City Corporate Edition',\n",
       " 'Hyundai EON Era',\n",
       " 'Datsun RediGO 1.0 T Option',\n",
       " 'Maruti Alto LXI',\n",
       " 'Hyundai i10 Magna 1.2',\n",
       " 'Renault Captur 1.5 Diesel RXT Mono',\n",
       " 'Mahindra Xylo D2 Maxx',\n",
       " 'Ford Aspire Titanium BSIV',\n",
       " 'Ford EcoSport 1.5 Ti VCT MT Titanium BE BSIV',\n",
       " 'Ford Ecosport 1.5 Petrol Trend',\n",
       " 'Ford EcoSport 1.5 TDCi Titanium Plus BSIV',\n",
       " 'Ford Freestyle Titanium',\n",
       " 'Ford Ecosport Thunder Edition Diesel',\n",
       " 'Ford Freestyle Titanium Plus',\n",
       " 'Mahindra Scorpio S2 9 Seater',\n",
       " 'Mahindra Scorpio VLS 2.2 mHawk',\n",
       " 'Honda Accord VTi-L (MT)',\n",
       " 'Tata Indigo CS LE (TDI) BS-III',\n",
       " 'Volkswagen Ameo 1.5 TDI Highline Plus 16',\n",
       " 'Ford Ecosport 1.5 Petrol Titanium Plus',\n",
       " 'Mahindra XUV500 AT W10 AWD',\n",
       " 'Mahindra XUV500 W10 2WD',\n",
       " 'Maruti Swift Dzire AMT VDI',\n",
       " 'Tata New Safari 4X4',\n",
       " 'Hyundai Verna SX CRDi AT',\n",
       " 'Renault Koleos 2.0 Diesel',\n",
       " 'Maruti Wagon R LXI DUO BSIII',\n",
       " 'Ford Ikon 1.8 D',\n",
       " 'Mercedes-Benz New C-Class 200 CDI Classic',\n",
       " 'Maruti Ertiga SHVS LDI Option',\n",
       " 'Tata Manza Aura (ABS) Quadrajet BS IV',\n",
       " 'Maruti Wagon R VXi BSII',\n",
       " 'Ford Fiesta 1.5 TDCi Ambiente',\n",
       " 'Renault KWID 1.0',\n",
       " 'Mahindra Scorpio S10 7 Seater',\n",
       " 'Chevrolet Enjoy TCDi LS 8 Seater',\n",
       " 'Tata Indica Vista TDI LX',\n",
       " 'Fiat Grande Punto EVO 1.3 Active',\n",
       " 'Mitsubishi Pajero 2.8 SFX BSIV Dual Tone',\n",
       " 'Mahindra Scorpio 2.6 SLX CRDe',\n",
       " 'Maruti Swift VXI Optional',\n",
       " 'Mahindra Thar DI 4X2',\n",
       " 'Maruti Ritz VXi',\n",
       " 'Tata Nexon 1.2 Revotron XZ Plus Dual Tone',\n",
       " 'Toyota Innova 2.5 G1 BSIV',\n",
       " 'Maruti Vitara Brezza LDi',\n",
       " 'Hyundai Verna Transform CRDi VGT ABS',\n",
       " 'Ford Freestyle Titanium Plus Diesel',\n",
       " 'Ford Figo 1.5P Titanium AT',\n",
       " 'Ford Figo 1.5D Titanium MT',\n",
       " 'Skoda Rapid 1.5 TDI AT Ambition BSIV',\n",
       " 'Tata Manza Aura Safire',\n",
       " 'Maruti Swift Dzire ZXI',\n",
       " 'Mahindra Bolero SLE BSIII',\n",
       " 'Hyundai Verna VTVT 1.6 SX',\n",
       " 'Fiat Punto 1.2 Active',\n",
       " 'Maruti Alto LXi BSII',\n",
       " 'Honda City 1.5 EXI S',\n",
       " 'Honda Amaze E i-VTEC',\n",
       " 'Tata Safari Storme EX',\n",
       " 'Volkswagen Ameo 1.2 MPI Trendline',\n",
       " 'Hyundai Verna 1.6 Xi ABS',\n",
       " 'Chevrolet Aveo 1.6 LT',\n",
       " 'Mahindra Bolero DI DX 8 Seater',\n",
       " 'Hyundai Verna 1.4 EX',\n",
       " 'Ford Figo Petrol ZXI',\n",
       " 'Tata Harrier XZ BSIV',\n",
       " 'Mahindra KUV 100 mFALCON G80 K8 5str',\n",
       " 'Hyundai i10 Sportz',\n",
       " 'Maruti Ignis 1.2 Delta BSIV',\n",
       " 'Toyota Corolla Altis 1.8 J',\n",
       " 'Tata Manza Club Class Quadrajet90 LS',\n",
       " 'Maruti Wagon R VXI Minor',\n",
       " 'Hyundai Accent GLE',\n",
       " 'Toyota Innova 2.0 VX 7 Seater',\n",
       " 'Maruti Alto 800 CNG LXI Optional',\n",
       " 'Maruti Ritz LXi',\n",
       " 'Chevrolet Aveo 1.6 LT with ABS',\n",
       " 'Tata Altroz XZ',\n",
       " 'Volkswagen Polo SR Petrol 1.2L',\n",
       " 'Skoda Superb 1.8 TFSI MT',\n",
       " 'Tata Tiago 2019-2020 XE Diesel',\n",
       " 'Tata Tiago 1.05 Revotorq XE',\n",
       " 'Hyundai Santro LS zipPlus',\n",
       " 'Mahindra XUV500 AT W10 FWD',\n",
       " 'Mahindra Scorpio VLX 2WD BSIV',\n",
       " 'Mahindra Scorpio VLX 2.2 mHawk Airbag BSIV',\n",
       " 'Hyundai Verna CRDi ABS',\n",
       " 'Mercedes-Benz E-Class 230',\n",
       " 'Maruti Omni 8 Seater BSIV',\n",
       " 'Ford Fiesta 1.4 ZXi TDCi ABS',\n",
       " 'Tata New Safari Dicor EX 4X2 BS IV',\n",
       " 'Mahindra XUV500 W7',\n",
       " 'Maruti Baleno Delta 1.3',\n",
       " 'Tata Nano Twist XT',\n",
       " 'Maruti Wagon R AX',\n",
       " 'Mahindra Scorpio SLX 2.6 Turbo 8 Str',\n",
       " 'Tata Tiago 1.05 Revotorq XT Option',\n",
       " ...]"
      ]
     },
     "execution_count": 59,
     "metadata": {},
     "output_type": "execute_result"
    }
   ],
   "source": [
    "df['Model'].unique().tolist()"
   ]
  },
  {
   "cell_type": "code",
   "execution_count": 38,
   "id": "bd7bf79b",
   "metadata": {},
   "outputs": [
    {
     "data": {
      "text/plain": [
       "Seller_Type\n",
       "Individual          3244\n",
       "Dealer               994\n",
       "Trustmark Dealer     102\n",
       "Name: count, dtype: int64"
      ]
     },
     "execution_count": 38,
     "metadata": {},
     "output_type": "execute_result"
    }
   ],
   "source": [
    "df['Seller_Type'].value_counts()"
   ]
  },
  {
   "cell_type": "code",
   "execution_count": 39,
   "id": "7dae9d05",
   "metadata": {},
   "outputs": [
    {
     "data": {
      "image/png": "[encoded data removed]",
      "text/plain": [
       "<Figure size 640x480 with 1 Axes>"
      ]
     },
     "metadata": {},
     "output_type": "display_data"
    }
   ],
   "source": [
    "sns.boxplot(x='Seller_Type', y='Selling_Price', data=df)\n",
    "plt.title('Prix vs Type de Carburant')\n",
    "plt.show()"
   ]
  },
  {
   "cell_type": "code",
   "execution_count": 40,
   "id": "2258b5b0",
   "metadata": {},
   "outputs": [
    {
     "data": {
      "text/plain": [
       "Owner\n",
       "First Owner             2832\n",
       "Second Owner            1106\n",
       "Third Owner              304\n",
       "Fourth & Above Owner      81\n",
       "Test Drive Car            17\n",
       "Name: count, dtype: int64"
      ]
     },
     "execution_count": 40,
     "metadata": {},
     "output_type": "execute_result"
    }
   ],
   "source": [
    "df['Owner'].value_counts()"
   ]
  },
  {
   "cell_type": "code",
   "execution_count": 41,
   "id": "e951bbd8",
   "metadata": {},
   "outputs": [
    {
     "data": {
      "image/png": "[encoded data removed]",
      "text/plain": [
       "<Figure size 1200x400 with 1 Axes>"
      ]
     },
     "metadata": {},
     "output_type": "display_data"
    }
   ],
   "source": [
    "plt.figure(figsize=(12,4))\n",
    "sns.boxplot(x='Owner', y='Selling_Price', data=df)\n",
    "plt.title('Prix vs Type de Carburant')\n",
    "plt.show()"
   ]
  },
  {
   "cell_type": "code",
   "execution_count": 42,
   "id": "07ce7f61",
   "metadata": {},
   "outputs": [
    {
     "name": "stdout",
     "output_type": "stream",
     "text": [
      "<class 'pandas.core.frame.DataFrame'>\n",
      "RangeIndex: 4340 entries, 0 to 4339\n",
      "Data columns (total 9 columns):\n",
      " #   Column         Non-Null Count  Dtype \n",
      "---  ------         --------------  ----- \n",
      " 0   Brand          4340 non-null   object\n",
      " 1   Model          4340 non-null   object\n",
      " 2   Year           4340 non-null   int64 \n",
      " 3   Selling_Price  4340 non-null   int64 \n",
      " 4   KM_Driven      4340 non-null   int64 \n",
      " 5   Fuel           4340 non-null   object\n",
      " 6   Seller_Type    4340 non-null   object\n",
      " 7   Transmission   4340 non-null   object\n",
      " 8   Owner          4340 non-null   object\n",
      "dtypes: int64(3), object(6)\n",
      "memory usage: 305.3+ KB\n"
     ]
    }
   ],
   "source": [
    "df.info()"
   ]
  },
  {
   "cell_type": "code",
   "execution_count": null,
   "id": "164ea4e0",
   "metadata": {},
   "outputs": [],
   "source": [
    "'''df['Car_Age'] = 2025 - df['Year']\n",
    "df = df.drop(columns=['Year']) '''"
   ]
  },
  {
   "cell_type": "code",
   "execution_count": 43,
   "id": "c7d129aa",
   "metadata": {},
   "outputs": [
    {
     "data": {
      "text/html": [
       "<div>\n",
       "<style scoped>\n",
       "    .dataframe tbody tr th:only-of-type {\n",
       "        vertical-align: middle;\n",
       "    }\n",
       "\n",
       "    .dataframe tbody tr th {\n",
       "        vertical-align: top;\n",
       "    }\n",
       "\n",
       "    .dataframe thead th {\n",
       "        text-align: right;\n",
       "    }\n",
       "</style>\n",
       "<table border=\"1\" class=\"dataframe\">\n",
       "  <thead>\n",
       "    <tr style=\"text-align: right;\">\n",
       "      <th></th>\n",
       "      <th>Brand</th>\n",
       "      <th>Model</th>\n",
       "      <th>Year</th>\n",
       "      <th>Selling_Price</th>\n",
       "      <th>KM_Driven</th>\n",
       "      <th>Fuel</th>\n",
       "      <th>Seller_Type</th>\n",
       "      <th>Transmission</th>\n",
       "      <th>Owner</th>\n",
       "    </tr>\n",
       "  </thead>\n",
       "  <tbody>\n",
       "    <tr>\n",
       "      <th>0</th>\n",
       "      <td>Maruti</td>\n",
       "      <td>Maruti 800 AC</td>\n",
       "      <td>2007</td>\n",
       "      <td>60000</td>\n",
       "      <td>70000</td>\n",
       "      <td>Petrol</td>\n",
       "      <td>Individual</td>\n",
       "      <td>Manual</td>\n",
       "      <td>First Owner</td>\n",
       "    </tr>\n",
       "    <tr>\n",
       "      <th>1</th>\n",
       "      <td>Maruti</td>\n",
       "      <td>Maruti Wagon R LXI Minor</td>\n",
       "      <td>2007</td>\n",
       "      <td>135000</td>\n",
       "      <td>50000</td>\n",
       "      <td>Petrol</td>\n",
       "      <td>Individual</td>\n",
       "      <td>Manual</td>\n",
       "      <td>First Owner</td>\n",
       "    </tr>\n",
       "    <tr>\n",
       "      <th>2</th>\n",
       "      <td>Hyundai</td>\n",
       "      <td>Hyundai Verna 1.6 SX</td>\n",
       "      <td>2012</td>\n",
       "      <td>600000</td>\n",
       "      <td>100000</td>\n",
       "      <td>Diesel</td>\n",
       "      <td>Individual</td>\n",
       "      <td>Manual</td>\n",
       "      <td>First Owner</td>\n",
       "    </tr>\n",
       "    <tr>\n",
       "      <th>3</th>\n",
       "      <td>Datsun</td>\n",
       "      <td>Datsun RediGO T Option</td>\n",
       "      <td>2017</td>\n",
       "      <td>250000</td>\n",
       "      <td>46000</td>\n",
       "      <td>Petrol</td>\n",
       "      <td>Individual</td>\n",
       "      <td>Manual</td>\n",
       "      <td>First Owner</td>\n",
       "    </tr>\n",
       "    <tr>\n",
       "      <th>4</th>\n",
       "      <td>Honda</td>\n",
       "      <td>Honda Amaze VX i-DTEC</td>\n",
       "      <td>2014</td>\n",
       "      <td>450000</td>\n",
       "      <td>141000</td>\n",
       "      <td>Diesel</td>\n",
       "      <td>Individual</td>\n",
       "      <td>Manual</td>\n",
       "      <td>Second Owner</td>\n",
       "    </tr>\n",
       "  </tbody>\n",
       "</table>\n",
       "</div>"
      ],
      "text/plain": [
       "     Brand                     Model  Year  Selling_Price  KM_Driven    Fuel  \\\n",
       "0   Maruti             Maruti 800 AC  2007          60000      70000  Petrol   \n",
       "1   Maruti  Maruti Wagon R LXI Minor  2007         135000      50000  Petrol   \n",
       "2  Hyundai      Hyundai Verna 1.6 SX  2012         600000     100000  Diesel   \n",
       "3   Datsun    Datsun RediGO T Option  2017         250000      46000  Petrol   \n",
       "4    Honda     Honda Amaze VX i-DTEC  2014         450000     141000  Diesel   \n",
       "\n",
       "  Seller_Type Transmission         Owner  \n",
       "0  Individual       Manual   First Owner  \n",
       "1  Individual       Manual   First Owner  \n",
       "2  Individual       Manual   First Owner  \n",
       "3  Individual       Manual   First Owner  \n",
       "4  Individual       Manual  Second Owner  "
      ]
     },
     "execution_count": 43,
     "metadata": {},
     "output_type": "execute_result"
    }
   ],
   "source": [
    "df.head()"
   ]
  },
  {
   "cell_type": "code",
   "execution_count": 44,
   "id": "abbb7465",
   "metadata": {},
   "outputs": [],
   "source": [
    "df['Is_First_Owner'] = df['Owner'].apply(lambda x: 1 if x == 'First Owner' else 0)\n",
    "df = df.drop(columns=['Owner'])"
   ]
  },
  {
   "cell_type": "code",
   "execution_count": 45,
   "id": "f74d123b",
   "metadata": {},
   "outputs": [
    {
     "data": {
      "text/html": [
       "<div>\n",
       "<style scoped>\n",
       "    .dataframe tbody tr th:only-of-type {\n",
       "        vertical-align: middle;\n",
       "    }\n",
       "\n",
       "    .dataframe tbody tr th {\n",
       "        vertical-align: top;\n",
       "    }\n",
       "\n",
       "    .dataframe thead th {\n",
       "        text-align: right;\n",
       "    }\n",
       "</style>\n",
       "<table border=\"1\" class=\"dataframe\">\n",
       "  <thead>\n",
       "    <tr style=\"text-align: right;\">\n",
       "      <th></th>\n",
       "      <th>Brand</th>\n",
       "      <th>Model</th>\n",
       "      <th>Year</th>\n",
       "      <th>Selling_Price</th>\n",
       "      <th>KM_Driven</th>\n",
       "      <th>Fuel</th>\n",
       "      <th>Seller_Type</th>\n",
       "      <th>Transmission</th>\n",
       "      <th>Is_First_Owner</th>\n",
       "    </tr>\n",
       "  </thead>\n",
       "  <tbody>\n",
       "    <tr>\n",
       "      <th>0</th>\n",
       "      <td>Maruti</td>\n",
       "      <td>Maruti 800 AC</td>\n",
       "      <td>2007</td>\n",
       "      <td>60000</td>\n",
       "      <td>70000</td>\n",
       "      <td>Petrol</td>\n",
       "      <td>Individual</td>\n",
       "      <td>Manual</td>\n",
       "      <td>1</td>\n",
       "    </tr>\n",
       "    <tr>\n",
       "      <th>1</th>\n",
       "      <td>Maruti</td>\n",
       "      <td>Maruti Wagon R LXI Minor</td>\n",
       "      <td>2007</td>\n",
       "      <td>135000</td>\n",
       "      <td>50000</td>\n",
       "      <td>Petrol</td>\n",
       "      <td>Individual</td>\n",
       "      <td>Manual</td>\n",
       "      <td>1</td>\n",
       "    </tr>\n",
       "    <tr>\n",
       "      <th>2</th>\n",
       "      <td>Hyundai</td>\n",
       "      <td>Hyundai Verna 1.6 SX</td>\n",
       "      <td>2012</td>\n",
       "      <td>600000</td>\n",
       "      <td>100000</td>\n",
       "      <td>Diesel</td>\n",
       "      <td>Individual</td>\n",
       "      <td>Manual</td>\n",
       "      <td>1</td>\n",
       "    </tr>\n",
       "    <tr>\n",
       "      <th>3</th>\n",
       "      <td>Datsun</td>\n",
       "      <td>Datsun RediGO T Option</td>\n",
       "      <td>2017</td>\n",
       "      <td>250000</td>\n",
       "      <td>46000</td>\n",
       "      <td>Petrol</td>\n",
       "      <td>Individual</td>\n",
       "      <td>Manual</td>\n",
       "      <td>1</td>\n",
       "    </tr>\n",
       "    <tr>\n",
       "      <th>4</th>\n",
       "      <td>Honda</td>\n",
       "      <td>Honda Amaze VX i-DTEC</td>\n",
       "      <td>2014</td>\n",
       "      <td>450000</td>\n",
       "      <td>141000</td>\n",
       "      <td>Diesel</td>\n",
       "      <td>Individual</td>\n",
       "      <td>Manual</td>\n",
       "      <td>0</td>\n",
       "    </tr>\n",
       "  </tbody>\n",
       "</table>\n",
       "</div>"
      ],
      "text/plain": [
       "     Brand                     Model  Year  Selling_Price  KM_Driven    Fuel  \\\n",
       "0   Maruti             Maruti 800 AC  2007          60000      70000  Petrol   \n",
       "1   Maruti  Maruti Wagon R LXI Minor  2007         135000      50000  Petrol   \n",
       "2  Hyundai      Hyundai Verna 1.6 SX  2012         600000     100000  Diesel   \n",
       "3   Datsun    Datsun RediGO T Option  2017         250000      46000  Petrol   \n",
       "4    Honda     Honda Amaze VX i-DTEC  2014         450000     141000  Diesel   \n",
       "\n",
       "  Seller_Type Transmission  Is_First_Owner  \n",
       "0  Individual       Manual               1  \n",
       "1  Individual       Manual               1  \n",
       "2  Individual       Manual               1  \n",
       "3  Individual       Manual               1  \n",
       "4  Individual       Manual               0  "
      ]
     },
     "execution_count": 45,
     "metadata": {},
     "output_type": "execute_result"
    }
   ],
   "source": [
    "df.head()"
   ]
  },
  {
   "cell_type": "code",
   "execution_count": 46,
   "id": "1408679c",
   "metadata": {},
   "outputs": [],
   "source": [
    "# 2. Séparation features / cible\n",
    "X = df.drop(columns=['Selling_Price'])\n",
    "y = df['Selling_Price']"
   ]
  },
  {
   "cell_type": "code",
   "execution_count": 47,
   "id": "d1396406",
   "metadata": {},
   "outputs": [],
   "source": [
    "from sklearn.model_selection import train_test_split, GridSearchCV\n",
    "from sklearn.preprocessing import OneHotEncoder\n",
    "from sklearn.compose import ColumnTransformer\n",
    "from sklearn.pipeline import Pipeline\n",
    "from sklearn.ensemble import RandomForestRegressor\n",
    "from sklearn.metrics import mean_absolute_error, r2_score"
   ]
  },
  {
   "cell_type": "code",
   "execution_count": 48,
   "id": "5eb2c47c",
   "metadata": {},
   "outputs": [],
   "source": [
    "# 3. Définition des colonnes catégorielles et numériques\n",
    "categorical_features = ['Brand', 'Model', 'Fuel', 'Seller_Type', 'Transmission']\n",
    "numeric_features = [col for col in X.columns if col not in categorical_features]\n",
    "\n",
    "# 4. Préprocesseur\n",
    "preprocessor = ColumnTransformer(\n",
    "    transformers=[\n",
    "        ('cat', OneHotEncoder(drop='first', handle_unknown='ignore'), categorical_features)\n",
    "    ],\n",
    "    remainder='passthrough'  # Les colonnes numériques passent telles quelles\n",
    ")\n",
    "\n",
    "# 5. Pipeline complet avec modèle\n",
    "pipeline = Pipeline([\n",
    "    ('preprocessor', preprocessor),\n",
    "    ('regressor', RandomForestRegressor(random_state=101))\n",
    "])\n",
    "\n",
    "# 6. Split train/test\n",
    "X_train, X_test, y_train, y_test = train_test_split(X, y, test_size=0.2, random_state=101)"
   ]
  },
  {
   "cell_type": "code",
   "execution_count": 49,
   "id": "eb75028d",
   "metadata": {},
   "outputs": [
    {
     "name": "stdout",
     "output_type": "stream",
     "text": [
      "Fitting 5 folds for each of 12 candidates, totalling 60 fits\n"
     ]
    },
    {
     "name": "stderr",
     "output_type": "stream",
     "text": [
      "/home/mihavana/anaconda3/lib/python3.12/site-packages/sklearn/preprocessing/_encoders.py:242: UserWarning: Found unknown categories in columns [1, 2] during transform. These unknown categories will be encoded as all zeros\n",
      "  warnings.warn(\n"
     ]
    },
    {
     "name": "stdout",
     "output_type": "stream",
     "text": [
      "[CV] END regressor__max_depth=None, regressor__min_samples_split=2, regressor__n_estimators=100; total time=  22.3s\n"
     ]
    },
    {
     "name": "stderr",
     "output_type": "stream",
     "text": [
      "/home/mihavana/anaconda3/lib/python3.12/site-packages/sklearn/preprocessing/_encoders.py:242: UserWarning: Found unknown categories in columns [0, 1] during transform. These unknown categories will be encoded as all zeros\n",
      "  warnings.warn(\n",
      "/home/mihavana/anaconda3/lib/python3.12/site-packages/sklearn/preprocessing/_encoders.py:242: UserWarning: Found unknown categories in columns [1] during transform. These unknown categories will be encoded as all zeros\n",
      "  warnings.warn(\n"
     ]
    },
    {
     "name": "stdout",
     "output_type": "stream",
     "text": [
      "[CV] END regressor__max_depth=None, regressor__min_samples_split=2, regressor__n_estimators=100; total time=  23.7s\n",
      "[CV] END regressor__max_depth=None, regressor__min_samples_split=2, regressor__n_estimators=100; total time=  23.3s\n"
     ]
    },
    {
     "name": "stderr",
     "output_type": "stream",
     "text": [
      "/home/mihavana/anaconda3/lib/python3.12/site-packages/sklearn/preprocessing/_encoders.py:242: UserWarning: Found unknown categories in columns [0, 1] during transform. These unknown categories will be encoded as all zeros\n",
      "  warnings.warn(\n"
     ]
    },
    {
     "name": "stdout",
     "output_type": "stream",
     "text": [
      "[CV] END regressor__max_depth=None, regressor__min_samples_split=2, regressor__n_estimators=100; total time=  24.3s\n"
     ]
    },
    {
     "name": "stderr",
     "output_type": "stream",
     "text": [
      "/home/mihavana/anaconda3/lib/python3.12/site-packages/sklearn/preprocessing/_encoders.py:242: UserWarning: Found unknown categories in columns [1] during transform. These unknown categories will be encoded as all zeros\n",
      "  warnings.warn(\n"
     ]
    },
    {
     "name": "stdout",
     "output_type": "stream",
     "text": [
      "[CV] END regressor__max_depth=None, regressor__min_samples_split=2, regressor__n_estimators=100; total time=  23.9s\n"
     ]
    },
    {
     "name": "stderr",
     "output_type": "stream",
     "text": [
      "/home/mihavana/anaconda3/lib/python3.12/site-packages/sklearn/preprocessing/_encoders.py:242: UserWarning: Found unknown categories in columns [1] during transform. These unknown categories will be encoded as all zeros\n",
      "  warnings.warn(\n",
      "/home/mihavana/anaconda3/lib/python3.12/site-packages/sklearn/preprocessing/_encoders.py:242: UserWarning: Found unknown categories in columns [0, 1] during transform. These unknown categories will be encoded as all zeros\n",
      "  warnings.warn(\n"
     ]
    },
    {
     "name": "stdout",
     "output_type": "stream",
     "text": [
      "[CV] END regressor__max_depth=None, regressor__min_samples_split=2, regressor__n_estimators=200; total time=  47.2s\n",
      "[CV] END regressor__max_depth=None, regressor__min_samples_split=2, regressor__n_estimators=200; total time=  48.5s\n"
     ]
    },
    {
     "name": "stderr",
     "output_type": "stream",
     "text": [
      "/home/mihavana/anaconda3/lib/python3.12/site-packages/sklearn/preprocessing/_encoders.py:242: UserWarning: Found unknown categories in columns [1, 2] during transform. These unknown categories will be encoded as all zeros\n",
      "  warnings.warn(\n"
     ]
    },
    {
     "name": "stdout",
     "output_type": "stream",
     "text": [
      "[CV] END regressor__max_depth=None, regressor__min_samples_split=2, regressor__n_estimators=200; total time=  48.9s\n"
     ]
    },
    {
     "name": "stderr",
     "output_type": "stream",
     "text": [
      "/home/mihavana/anaconda3/lib/python3.12/site-packages/sklearn/preprocessing/_encoders.py:242: UserWarning: Found unknown categories in columns [1, 2] during transform. These unknown categories will be encoded as all zeros\n",
      "  warnings.warn(\n"
     ]
    },
    {
     "name": "stdout",
     "output_type": "stream",
     "text": [
      "[CV] END regressor__max_depth=None, regressor__min_samples_split=5, regressor__n_estimators=100; total time=  18.2s\n"
     ]
    },
    {
     "name": "stderr",
     "output_type": "stream",
     "text": [
      "/home/mihavana/anaconda3/lib/python3.12/site-packages/sklearn/preprocessing/_encoders.py:242: UserWarning: Found unknown categories in columns [1] during transform. These unknown categories will be encoded as all zeros\n",
      "  warnings.warn(\n"
     ]
    },
    {
     "name": "stdout",
     "output_type": "stream",
     "text": [
      "[CV] END regressor__max_depth=None, regressor__min_samples_split=5, regressor__n_estimators=100; total time=  21.1s\n"
     ]
    },
    {
     "name": "stderr",
     "output_type": "stream",
     "text": [
      "/home/mihavana/anaconda3/lib/python3.12/site-packages/sklearn/preprocessing/_encoders.py:242: UserWarning: Found unknown categories in columns [0, 1] during transform. These unknown categories will be encoded as all zeros\n",
      "  warnings.warn(\n"
     ]
    },
    {
     "name": "stdout",
     "output_type": "stream",
     "text": [
      "[CV] END regressor__max_depth=None, regressor__min_samples_split=2, regressor__n_estimators=200; total time=  53.7s\n"
     ]
    },
    {
     "name": "stderr",
     "output_type": "stream",
     "text": [
      "/home/mihavana/anaconda3/lib/python3.12/site-packages/sklearn/preprocessing/_encoders.py:242: UserWarning: Found unknown categories in columns [0, 1] during transform. These unknown categories will be encoded as all zeros\n",
      "  warnings.warn(\n"
     ]
    },
    {
     "name": "stdout",
     "output_type": "stream",
     "text": [
      "[CV] END regressor__max_depth=None, regressor__min_samples_split=5, regressor__n_estimators=100; total time=  16.3s\n"
     ]
    },
    {
     "name": "stderr",
     "output_type": "stream",
     "text": [
      "/home/mihavana/anaconda3/lib/python3.12/site-packages/sklearn/preprocessing/_encoders.py:242: UserWarning: Found unknown categories in columns [0, 1] during transform. These unknown categories will be encoded as all zeros\n",
      "  warnings.warn(\n"
     ]
    },
    {
     "name": "stdout",
     "output_type": "stream",
     "text": [
      "[CV] END regressor__max_depth=None, regressor__min_samples_split=5, regressor__n_estimators=100; total time=  18.0s\n"
     ]
    },
    {
     "name": "stderr",
     "output_type": "stream",
     "text": [
      "/home/mihavana/anaconda3/lib/python3.12/site-packages/sklearn/preprocessing/_encoders.py:242: UserWarning: Found unknown categories in columns [1] during transform. These unknown categories will be encoded as all zeros\n",
      "  warnings.warn(\n"
     ]
    },
    {
     "name": "stdout",
     "output_type": "stream",
     "text": [
      "[CV] END regressor__max_depth=None, regressor__min_samples_split=5, regressor__n_estimators=100; total time=  22.6s\n"
     ]
    },
    {
     "name": "stderr",
     "output_type": "stream",
     "text": [
      "/home/mihavana/anaconda3/lib/python3.12/site-packages/sklearn/preprocessing/_encoders.py:242: UserWarning: Found unknown categories in columns [1] during transform. These unknown categories will be encoded as all zeros\n",
      "  warnings.warn(\n"
     ]
    },
    {
     "name": "stdout",
     "output_type": "stream",
     "text": [
      "[CV] END regressor__max_depth=None, regressor__min_samples_split=2, regressor__n_estimators=200; total time=  52.6s\n"
     ]
    },
    {
     "name": "stderr",
     "output_type": "stream",
     "text": [
      "/home/mihavana/anaconda3/lib/python3.12/site-packages/sklearn/preprocessing/_encoders.py:242: UserWarning: Found unknown categories in columns [1] during transform. These unknown categories will be encoded as all zeros\n",
      "  warnings.warn(\n"
     ]
    },
    {
     "name": "stdout",
     "output_type": "stream",
     "text": [
      "[CV] END regressor__max_depth=None, regressor__min_samples_split=5, regressor__n_estimators=200; total time=  38.2s\n"
     ]
    },
    {
     "name": "stderr",
     "output_type": "stream",
     "text": [
      "/home/mihavana/anaconda3/lib/python3.12/site-packages/sklearn/preprocessing/_encoders.py:242: UserWarning: Found unknown categories in columns [1, 2] during transform. These unknown categories will be encoded as all zeros\n",
      "  warnings.warn(\n"
     ]
    },
    {
     "name": "stdout",
     "output_type": "stream",
     "text": [
      "[CV] END regressor__max_depth=None, regressor__min_samples_split=5, regressor__n_estimators=200; total time=  35.6s\n"
     ]
    },
    {
     "name": "stderr",
     "output_type": "stream",
     "text": [
      "/home/mihavana/anaconda3/lib/python3.12/site-packages/sklearn/preprocessing/_encoders.py:242: UserWarning: Found unknown categories in columns [1] during transform. These unknown categories will be encoded as all zeros\n",
      "  warnings.warn(\n"
     ]
    },
    {
     "name": "stdout",
     "output_type": "stream",
     "text": [
      "[CV] END regressor__max_depth=10, regressor__min_samples_split=2, regressor__n_estimators=100; total time=   6.6s\n"
     ]
    },
    {
     "name": "stderr",
     "output_type": "stream",
     "text": [
      "/home/mihavana/anaconda3/lib/python3.12/site-packages/sklearn/preprocessing/_encoders.py:242: UserWarning: Found unknown categories in columns [1, 2] during transform. These unknown categories will be encoded as all zeros\n",
      "  warnings.warn(\n"
     ]
    },
    {
     "name": "stdout",
     "output_type": "stream",
     "text": [
      "[CV] END regressor__max_depth=10, regressor__min_samples_split=2, regressor__n_estimators=100; total time=   7.6s\n"
     ]
    },
    {
     "name": "stderr",
     "output_type": "stream",
     "text": [
      "/home/mihavana/anaconda3/lib/python3.12/site-packages/sklearn/preprocessing/_encoders.py:242: UserWarning: Found unknown categories in columns [0, 1] during transform. These unknown categories will be encoded as all zeros\n",
      "  warnings.warn(\n"
     ]
    },
    {
     "name": "stdout",
     "output_type": "stream",
     "text": [
      "[CV] END regressor__max_depth=None, regressor__min_samples_split=5, regressor__n_estimators=200; total time=  38.4s\n"
     ]
    },
    {
     "name": "stderr",
     "output_type": "stream",
     "text": [
      "/home/mihavana/anaconda3/lib/python3.12/site-packages/sklearn/preprocessing/_encoders.py:242: UserWarning: Found unknown categories in columns [0, 1] during transform. These unknown categories will be encoded as all zeros\n",
      "  warnings.warn(\n"
     ]
    },
    {
     "name": "stdout",
     "output_type": "stream",
     "text": [
      "[CV] END regressor__max_depth=None, regressor__min_samples_split=5, regressor__n_estimators=200; total time=  41.5s\n"
     ]
    },
    {
     "name": "stderr",
     "output_type": "stream",
     "text": [
      "/home/mihavana/anaconda3/lib/python3.12/site-packages/sklearn/preprocessing/_encoders.py:242: UserWarning: Found unknown categories in columns [0, 1] during transform. These unknown categories will be encoded as all zeros\n",
      "  warnings.warn(\n"
     ]
    },
    {
     "name": "stdout",
     "output_type": "stream",
     "text": [
      "[CV] END regressor__max_depth=10, regressor__min_samples_split=2, regressor__n_estimators=100; total time=   5.1s\n"
     ]
    },
    {
     "name": "stderr",
     "output_type": "stream",
     "text": [
      "/home/mihavana/anaconda3/lib/python3.12/site-packages/sklearn/preprocessing/_encoders.py:242: UserWarning: Found unknown categories in columns [0, 1] during transform. These unknown categories will be encoded as all zeros\n",
      "  warnings.warn(\n"
     ]
    },
    {
     "name": "stdout",
     "output_type": "stream",
     "text": [
      "[CV] END regressor__max_depth=10, regressor__min_samples_split=2, regressor__n_estimators=100; total time=   7.4s\n"
     ]
    },
    {
     "name": "stderr",
     "output_type": "stream",
     "text": [
      "/home/mihavana/anaconda3/lib/python3.12/site-packages/sklearn/preprocessing/_encoders.py:242: UserWarning: Found unknown categories in columns [1] during transform. These unknown categories will be encoded as all zeros\n",
      "  warnings.warn(\n"
     ]
    },
    {
     "name": "stdout",
     "output_type": "stream",
     "text": [
      "[CV] END regressor__max_depth=10, regressor__min_samples_split=2, regressor__n_estimators=100; total time=   7.4s\n"
     ]
    },
    {
     "name": "stderr",
     "output_type": "stream",
     "text": [
      "/home/mihavana/anaconda3/lib/python3.12/site-packages/sklearn/preprocessing/_encoders.py:242: UserWarning: Found unknown categories in columns [1] during transform. These unknown categories will be encoded as all zeros\n",
      "  warnings.warn(\n"
     ]
    },
    {
     "name": "stdout",
     "output_type": "stream",
     "text": [
      "[CV] END regressor__max_depth=10, regressor__min_samples_split=2, regressor__n_estimators=200; total time=  11.3s\n"
     ]
    },
    {
     "name": "stderr",
     "output_type": "stream",
     "text": [
      "/home/mihavana/anaconda3/lib/python3.12/site-packages/sklearn/preprocessing/_encoders.py:242: UserWarning: Found unknown categories in columns [1, 2] during transform. These unknown categories will be encoded as all zeros\n",
      "  warnings.warn(\n"
     ]
    },
    {
     "name": "stdout",
     "output_type": "stream",
     "text": [
      "[CV] END regressor__max_depth=10, regressor__min_samples_split=2, regressor__n_estimators=200; total time=  13.3s\n"
     ]
    },
    {
     "name": "stderr",
     "output_type": "stream",
     "text": [
      "/home/mihavana/anaconda3/lib/python3.12/site-packages/sklearn/preprocessing/_encoders.py:242: UserWarning: Found unknown categories in columns [1] during transform. These unknown categories will be encoded as all zeros\n",
      "  warnings.warn(\n"
     ]
    },
    {
     "name": "stdout",
     "output_type": "stream",
     "text": [
      "[CV] END regressor__max_depth=None, regressor__min_samples_split=5, regressor__n_estimators=200; total time=  39.5s\n"
     ]
    },
    {
     "name": "stderr",
     "output_type": "stream",
     "text": [
      "/home/mihavana/anaconda3/lib/python3.12/site-packages/sklearn/preprocessing/_encoders.py:242: UserWarning: Found unknown categories in columns [0, 1] during transform. These unknown categories will be encoded as all zeros\n",
      "  warnings.warn(\n"
     ]
    },
    {
     "name": "stdout",
     "output_type": "stream",
     "text": [
      "[CV] END regressor__max_depth=10, regressor__min_samples_split=2, regressor__n_estimators=200; total time=  15.3s\n"
     ]
    },
    {
     "name": "stderr",
     "output_type": "stream",
     "text": [
      "/home/mihavana/anaconda3/lib/python3.12/site-packages/sklearn/preprocessing/_encoders.py:242: UserWarning: Found unknown categories in columns [1] during transform. These unknown categories will be encoded as all zeros\n",
      "  warnings.warn(\n"
     ]
    },
    {
     "name": "stdout",
     "output_type": "stream",
     "text": [
      "[CV] END regressor__max_depth=10, regressor__min_samples_split=5, regressor__n_estimators=100; total time=   6.1s\n",
      "[CV] END regressor__max_depth=10, regressor__min_samples_split=5, regressor__n_estimators=100; total time=   4.8s\n"
     ]
    },
    {
     "name": "stderr",
     "output_type": "stream",
     "text": [
      "/home/mihavana/anaconda3/lib/python3.12/site-packages/sklearn/preprocessing/_encoders.py:242: UserWarning: Found unknown categories in columns [1, 2] during transform. These unknown categories will be encoded as all zeros\n",
      "  warnings.warn(\n",
      "/home/mihavana/anaconda3/lib/python3.12/site-packages/sklearn/preprocessing/_encoders.py:242: UserWarning: Found unknown categories in columns [0, 1] during transform. These unknown categories will be encoded as all zeros\n",
      "  warnings.warn(\n"
     ]
    },
    {
     "name": "stdout",
     "output_type": "stream",
     "text": [
      "[CV] END regressor__max_depth=10, regressor__min_samples_split=2, regressor__n_estimators=200; total time=  13.4s\n"
     ]
    },
    {
     "name": "stderr",
     "output_type": "stream",
     "text": [
      "/home/mihavana/anaconda3/lib/python3.12/site-packages/sklearn/preprocessing/_encoders.py:242: UserWarning: Found unknown categories in columns [1] during transform. These unknown categories will be encoded as all zeros\n",
      "  warnings.warn(\n"
     ]
    },
    {
     "name": "stdout",
     "output_type": "stream",
     "text": [
      "[CV] END regressor__max_depth=10, regressor__min_samples_split=2, regressor__n_estimators=200; total time=  14.8s\n"
     ]
    },
    {
     "name": "stderr",
     "output_type": "stream",
     "text": [
      "/home/mihavana/anaconda3/lib/python3.12/site-packages/sklearn/preprocessing/_encoders.py:242: UserWarning: Found unknown categories in columns [0, 1] during transform. These unknown categories will be encoded as all zeros\n",
      "  warnings.warn(\n"
     ]
    },
    {
     "name": "stdout",
     "output_type": "stream",
     "text": [
      "[CV] END regressor__max_depth=10, regressor__min_samples_split=5, regressor__n_estimators=100; total time=   6.3s\n"
     ]
    },
    {
     "name": "stderr",
     "output_type": "stream",
     "text": [
      "/home/mihavana/anaconda3/lib/python3.12/site-packages/sklearn/preprocessing/_encoders.py:242: UserWarning: Found unknown categories in columns [0, 1] during transform. These unknown categories will be encoded as all zeros\n",
      "  warnings.warn(\n"
     ]
    },
    {
     "name": "stdout",
     "output_type": "stream",
     "text": [
      "[CV] END regressor__max_depth=10, regressor__min_samples_split=5, regressor__n_estimators=100; total time=   6.5s\n"
     ]
    },
    {
     "name": "stderr",
     "output_type": "stream",
     "text": [
      "/home/mihavana/anaconda3/lib/python3.12/site-packages/sklearn/preprocessing/_encoders.py:242: UserWarning: Found unknown categories in columns [1] during transform. These unknown categories will be encoded as all zeros\n",
      "  warnings.warn(\n"
     ]
    },
    {
     "name": "stdout",
     "output_type": "stream",
     "text": [
      "[CV] END regressor__max_depth=10, regressor__min_samples_split=5, regressor__n_estimators=100; total time=   6.3s\n"
     ]
    },
    {
     "name": "stderr",
     "output_type": "stream",
     "text": [
      "/home/mihavana/anaconda3/lib/python3.12/site-packages/sklearn/preprocessing/_encoders.py:242: UserWarning: Found unknown categories in columns [1] during transform. These unknown categories will be encoded as all zeros\n",
      "  warnings.warn(\n"
     ]
    },
    {
     "name": "stdout",
     "output_type": "stream",
     "text": [
      "[CV] END regressor__max_depth=10, regressor__min_samples_split=5, regressor__n_estimators=200; total time=  12.0s\n"
     ]
    },
    {
     "name": "stderr",
     "output_type": "stream",
     "text": [
      "/home/mihavana/anaconda3/lib/python3.12/site-packages/sklearn/preprocessing/_encoders.py:242: UserWarning: Found unknown categories in columns [1, 2] during transform. These unknown categories will be encoded as all zeros\n",
      "  warnings.warn(\n"
     ]
    },
    {
     "name": "stdout",
     "output_type": "stream",
     "text": [
      "[CV] END regressor__max_depth=10, regressor__min_samples_split=5, regressor__n_estimators=200; total time=  11.9s\n"
     ]
    },
    {
     "name": "stderr",
     "output_type": "stream",
     "text": [
      "/home/mihavana/anaconda3/lib/python3.12/site-packages/sklearn/preprocessing/_encoders.py:242: UserWarning: Found unknown categories in columns [0, 1] during transform. These unknown categories will be encoded as all zeros\n",
      "  warnings.warn(\n"
     ]
    },
    {
     "name": "stdout",
     "output_type": "stream",
     "text": [
      "[CV] END regressor__max_depth=10, regressor__min_samples_split=5, regressor__n_estimators=200; total time=  13.3s\n"
     ]
    },
    {
     "name": "stderr",
     "output_type": "stream",
     "text": [
      "/home/mihavana/anaconda3/lib/python3.12/site-packages/sklearn/preprocessing/_encoders.py:242: UserWarning: Found unknown categories in columns [0, 1] during transform. These unknown categories will be encoded as all zeros\n",
      "  warnings.warn(\n"
     ]
    },
    {
     "name": "stdout",
     "output_type": "stream",
     "text": [
      "[CV] END regressor__max_depth=10, regressor__min_samples_split=5, regressor__n_estimators=200; total time=  12.3s\n"
     ]
    },
    {
     "name": "stderr",
     "output_type": "stream",
     "text": [
      "/home/mihavana/anaconda3/lib/python3.12/site-packages/sklearn/preprocessing/_encoders.py:242: UserWarning: Found unknown categories in columns [1] during transform. These unknown categories will be encoded as all zeros\n",
      "  warnings.warn(\n"
     ]
    },
    {
     "name": "stdout",
     "output_type": "stream",
     "text": [
      "[CV] END regressor__max_depth=10, regressor__min_samples_split=5, regressor__n_estimators=200; total time=  13.7s\n"
     ]
    },
    {
     "name": "stderr",
     "output_type": "stream",
     "text": [
      "/home/mihavana/anaconda3/lib/python3.12/site-packages/sklearn/preprocessing/_encoders.py:242: UserWarning: Found unknown categories in columns [1, 2] during transform. These unknown categories will be encoded as all zeros\n",
      "  warnings.warn(\n"
     ]
    },
    {
     "name": "stdout",
     "output_type": "stream",
     "text": [
      "[CV] END regressor__max_depth=20, regressor__min_samples_split=2, regressor__n_estimators=100; total time=  12.3s\n"
     ]
    },
    {
     "name": "stderr",
     "output_type": "stream",
     "text": [
      "/home/mihavana/anaconda3/lib/python3.12/site-packages/sklearn/preprocessing/_encoders.py:242: UserWarning: Found unknown categories in columns [1] during transform. These unknown categories will be encoded as all zeros\n",
      "  warnings.warn(\n"
     ]
    },
    {
     "name": "stdout",
     "output_type": "stream",
     "text": [
      "[CV] END regressor__max_depth=20, regressor__min_samples_split=2, regressor__n_estimators=100; total time=  15.6s\n"
     ]
    },
    {
     "name": "stderr",
     "output_type": "stream",
     "text": [
      "/home/mihavana/anaconda3/lib/python3.12/site-packages/sklearn/preprocessing/_encoders.py:242: UserWarning: Found unknown categories in columns [0, 1] during transform. These unknown categories will be encoded as all zeros\n",
      "  warnings.warn(\n"
     ]
    },
    {
     "name": "stdout",
     "output_type": "stream",
     "text": [
      "[CV] END regressor__max_depth=20, regressor__min_samples_split=2, regressor__n_estimators=100; total time=  18.5s\n"
     ]
    },
    {
     "name": "stderr",
     "output_type": "stream",
     "text": [
      "/home/mihavana/anaconda3/lib/python3.12/site-packages/sklearn/preprocessing/_encoders.py:242: UserWarning: Found unknown categories in columns [0, 1] during transform. These unknown categories will be encoded as all zeros\n",
      "  warnings.warn(\n"
     ]
    },
    {
     "name": "stdout",
     "output_type": "stream",
     "text": [
      "[CV] END regressor__max_depth=20, regressor__min_samples_split=2, regressor__n_estimators=100; total time=  14.1s\n"
     ]
    },
    {
     "name": "stderr",
     "output_type": "stream",
     "text": [
      "/home/mihavana/anaconda3/lib/python3.12/site-packages/sklearn/preprocessing/_encoders.py:242: UserWarning: Found unknown categories in columns [1] during transform. These unknown categories will be encoded as all zeros\n",
      "  warnings.warn(\n"
     ]
    },
    {
     "name": "stdout",
     "output_type": "stream",
     "text": [
      "[CV] END regressor__max_depth=20, regressor__min_samples_split=2, regressor__n_estimators=100; total time=  15.7s\n"
     ]
    },
    {
     "name": "stderr",
     "output_type": "stream",
     "text": [
      "/home/mihavana/anaconda3/lib/python3.12/site-packages/sklearn/preprocessing/_encoders.py:242: UserWarning: Found unknown categories in columns [1] during transform. These unknown categories will be encoded as all zeros\n",
      "  warnings.warn(\n"
     ]
    },
    {
     "name": "stdout",
     "output_type": "stream",
     "text": [
      "[CV] END regressor__max_depth=20, regressor__min_samples_split=2, regressor__n_estimators=200; total time=  30.9s\n"
     ]
    },
    {
     "name": "stderr",
     "output_type": "stream",
     "text": [
      "/home/mihavana/anaconda3/lib/python3.12/site-packages/sklearn/preprocessing/_encoders.py:242: UserWarning: Found unknown categories in columns [1, 2] during transform. These unknown categories will be encoded as all zeros\n",
      "  warnings.warn(\n"
     ]
    },
    {
     "name": "stdout",
     "output_type": "stream",
     "text": [
      "[CV] END regressor__max_depth=20, regressor__min_samples_split=2, regressor__n_estimators=200; total time=  29.3s\n"
     ]
    },
    {
     "name": "stderr",
     "output_type": "stream",
     "text": [
      "/home/mihavana/anaconda3/lib/python3.12/site-packages/sklearn/preprocessing/_encoders.py:242: UserWarning: Found unknown categories in columns [0, 1] during transform. These unknown categories will be encoded as all zeros\n",
      "  warnings.warn(\n"
     ]
    },
    {
     "name": "stdout",
     "output_type": "stream",
     "text": [
      "[CV] END regressor__max_depth=20, regressor__min_samples_split=2, regressor__n_estimators=200; total time=  27.4s\n"
     ]
    },
    {
     "name": "stderr",
     "output_type": "stream",
     "text": [
      "/home/mihavana/anaconda3/lib/python3.12/site-packages/sklearn/preprocessing/_encoders.py:242: UserWarning: Found unknown categories in columns [1] during transform. These unknown categories will be encoded as all zeros\n",
      "  warnings.warn(\n"
     ]
    },
    {
     "name": "stdout",
     "output_type": "stream",
     "text": [
      "[CV] END regressor__max_depth=20, regressor__min_samples_split=5, regressor__n_estimators=100; total time=  10.8s\n"
     ]
    },
    {
     "name": "stderr",
     "output_type": "stream",
     "text": [
      "/home/mihavana/anaconda3/lib/python3.12/site-packages/sklearn/preprocessing/_encoders.py:242: UserWarning: Found unknown categories in columns [0, 1] during transform. These unknown categories will be encoded as all zeros\n",
      "  warnings.warn(\n"
     ]
    },
    {
     "name": "stdout",
     "output_type": "stream",
     "text": [
      "[CV] END regressor__max_depth=20, regressor__min_samples_split=2, regressor__n_estimators=200; total time=  36.3s\n"
     ]
    },
    {
     "name": "stderr",
     "output_type": "stream",
     "text": [
      "/home/mihavana/anaconda3/lib/python3.12/site-packages/sklearn/preprocessing/_encoders.py:242: UserWarning: Found unknown categories in columns [1, 2] during transform. These unknown categories will be encoded as all zeros\n",
      "  warnings.warn(\n"
     ]
    },
    {
     "name": "stdout",
     "output_type": "stream",
     "text": [
      "[CV] END regressor__max_depth=20, regressor__min_samples_split=5, regressor__n_estimators=100; total time=  13.7s\n"
     ]
    },
    {
     "name": "stderr",
     "output_type": "stream",
     "text": [
      "/home/mihavana/anaconda3/lib/python3.12/site-packages/sklearn/preprocessing/_encoders.py:242: UserWarning: Found unknown categories in columns [0, 1] during transform. These unknown categories will be encoded as all zeros\n",
      "  warnings.warn(\n"
     ]
    },
    {
     "name": "stdout",
     "output_type": "stream",
     "text": [
      "[CV] END regressor__max_depth=20, regressor__min_samples_split=5, regressor__n_estimators=100; total time=  12.2s\n"
     ]
    },
    {
     "name": "stderr",
     "output_type": "stream",
     "text": [
      "/home/mihavana/anaconda3/lib/python3.12/site-packages/sklearn/preprocessing/_encoders.py:242: UserWarning: Found unknown categories in columns [0, 1] during transform. These unknown categories will be encoded as all zeros\n",
      "  warnings.warn(\n"
     ]
    },
    {
     "name": "stdout",
     "output_type": "stream",
     "text": [
      "[CV] END regressor__max_depth=20, regressor__min_samples_split=5, regressor__n_estimators=100; total time=  11.7s\n"
     ]
    },
    {
     "name": "stderr",
     "output_type": "stream",
     "text": [
      "/home/mihavana/anaconda3/lib/python3.12/site-packages/sklearn/preprocessing/_encoders.py:242: UserWarning: Found unknown categories in columns [1] during transform. These unknown categories will be encoded as all zeros\n",
      "  warnings.warn(\n"
     ]
    },
    {
     "name": "stdout",
     "output_type": "stream",
     "text": [
      "[CV] END regressor__max_depth=20, regressor__min_samples_split=2, regressor__n_estimators=200; total time=  34.8s\n"
     ]
    },
    {
     "name": "stderr",
     "output_type": "stream",
     "text": [
      "/home/mihavana/anaconda3/lib/python3.12/site-packages/sklearn/preprocessing/_encoders.py:242: UserWarning: Found unknown categories in columns [1] during transform. These unknown categories will be encoded as all zeros\n",
      "  warnings.warn(\n"
     ]
    },
    {
     "name": "stdout",
     "output_type": "stream",
     "text": [
      "[CV] END regressor__max_depth=20, regressor__min_samples_split=5, regressor__n_estimators=100; total time=  13.9s\n"
     ]
    },
    {
     "name": "stderr",
     "output_type": "stream",
     "text": [
      "/home/mihavana/anaconda3/lib/python3.12/site-packages/sklearn/preprocessing/_encoders.py:242: UserWarning: Found unknown categories in columns [1] during transform. These unknown categories will be encoded as all zeros\n",
      "  warnings.warn(\n"
     ]
    },
    {
     "name": "stdout",
     "output_type": "stream",
     "text": [
      "[CV] END regressor__max_depth=20, regressor__min_samples_split=5, regressor__n_estimators=200; total time=  25.6s\n"
     ]
    },
    {
     "name": "stderr",
     "output_type": "stream",
     "text": [
      "/home/mihavana/anaconda3/lib/python3.12/site-packages/sklearn/preprocessing/_encoders.py:242: UserWarning: Found unknown categories in columns [1, 2] during transform. These unknown categories will be encoded as all zeros\n",
      "  warnings.warn(\n"
     ]
    },
    {
     "name": "stdout",
     "output_type": "stream",
     "text": [
      "[CV] END regressor__max_depth=20, regressor__min_samples_split=5, regressor__n_estimators=200; total time=  29.3s\n"
     ]
    },
    {
     "name": "stderr",
     "output_type": "stream",
     "text": [
      "/home/mihavana/anaconda3/lib/python3.12/site-packages/sklearn/preprocessing/_encoders.py:242: UserWarning: Found unknown categories in columns [0, 1] during transform. These unknown categories will be encoded as all zeros\n",
      "  warnings.warn(\n"
     ]
    },
    {
     "name": "stdout",
     "output_type": "stream",
     "text": [
      "[CV] END regressor__max_depth=20, regressor__min_samples_split=5, regressor__n_estimators=200; total time=  25.0s\n"
     ]
    },
    {
     "name": "stderr",
     "output_type": "stream",
     "text": [
      "/home/mihavana/anaconda3/lib/python3.12/site-packages/sklearn/preprocessing/_encoders.py:242: UserWarning: Found unknown categories in columns [0, 1] during transform. These unknown categories will be encoded as all zeros\n",
      "  warnings.warn(\n"
     ]
    },
    {
     "name": "stdout",
     "output_type": "stream",
     "text": [
      "[CV] END regressor__max_depth=20, regressor__min_samples_split=5, regressor__n_estimators=200; total time=  27.8s\n"
     ]
    },
    {
     "name": "stderr",
     "output_type": "stream",
     "text": [
      "/home/mihavana/anaconda3/lib/python3.12/site-packages/sklearn/preprocessing/_encoders.py:242: UserWarning: Found unknown categories in columns [1] during transform. These unknown categories will be encoded as all zeros\n",
      "  warnings.warn(\n"
     ]
    },
    {
     "name": "stdout",
     "output_type": "stream",
     "text": [
      "[CV] END regressor__max_depth=20, regressor__min_samples_split=5, regressor__n_estimators=200; total time=  20.1s\n"
     ]
    },
    {
     "name": "stderr",
     "output_type": "stream",
     "text": [
      "/home/mihavana/anaconda3/lib/python3.12/site-packages/sklearn/compose/_column_transformer.py:1623: FutureWarning: \n",
      "The format of the columns of the 'remainder' transformer in ColumnTransformer.transformers_ will change in version 1.7 to match the format of the other transformers.\n",
      "At the moment the remainder columns are stored as indices (of type int). With the same ColumnTransformer configuration, in the future they will be stored as column names (of type str).\n",
      "To use the new behavior now and suppress this warning, use ColumnTransformer(force_int_remainder_cols=False).\n",
      "\n",
      "  warnings.warn(\n"
     ]
    },
    {
     "data": {
      "text/html": [
       "<style>#sk-container-id-1 {\n",
       "  /* Definition of color scheme common for light and dark mode */\n",
       "  --sklearn-color-text: black;\n",
       "  --sklearn-color-line: gray;\n",
       "  /* Definition of color scheme for unfitted estimators */\n",
       "  --sklearn-color-unfitted-level-0: #fff5e6;\n",
       "  --sklearn-color-unfitted-level-1: #f6e4d2;\n",
       "  --sklearn-color-unfitted-level-2: #ffe0b3;\n",
       "  --sklearn-color-unfitted-level-3: chocolate;\n",
       "  /* Definition of color scheme for fitted estimators */\n",
       "  --sklearn-color-fitted-level-0: #f0f8ff;\n",
       "  --sklearn-color-fitted-level-1: #d4ebff;\n",
       "  --sklearn-color-fitted-level-2: #b3dbfd;\n",
       "  --sklearn-color-fitted-level-3: cornflowerblue;\n",
       "\n",
       "  /* Specific color for light theme */\n",
       "  --sklearn-color-text-on-default-background: var(--sg-text-color, var(--theme-code-foreground, var(--jp-content-font-color1, black)));\n",
       "  --sklearn-color-background: var(--sg-background-color, var(--theme-background, var(--jp-layout-color0, white)));\n",
       "  --sklearn-color-border-box: var(--sg-text-color, var(--theme-code-foreground, var(--jp-content-font-color1, black)));\n",
       "  --sklearn-color-icon: #696969;\n",
       "\n",
       "  @media (prefers-color-scheme: dark) {\n",
       "    /* Redefinition of color scheme for dark theme */\n",
       "    --sklearn-color-text-on-default-background: var(--sg-text-color, var(--theme-code-foreground, var(--jp-content-font-color1, white)));\n",
       "    --sklearn-color-background: var(--sg-background-color, var(--theme-background, var(--jp-layout-color0, #111)));\n",
       "    --sklearn-color-border-box: var(--sg-text-color, var(--theme-code-foreground, var(--jp-content-font-color1, white)));\n",
       "    --sklearn-color-icon: #878787;\n",
       "  }\n",
       "}\n",
       "\n",
       "#sk-container-id-1 {\n",
       "  color: var(--sklearn-color-text);\n",
       "}\n",
       "\n",
       "#sk-container-id-1 pre {\n",
       "  padding: 0;\n",
       "}\n",
       "\n",
       "#sk-container-id-1 input.sk-hidden--visually {\n",
       "  border: 0;\n",
       "  clip: rect(1px 1px 1px 1px);\n",
       "  clip: rect(1px, 1px, 1px, 1px);\n",
       "  height: 1px;\n",
       "  margin: -1px;\n",
       "  overflow: hidden;\n",
       "  padding: 0;\n",
       "  position: absolute;\n",
       "  width: 1px;\n",
       "}\n",
       "\n",
       "#sk-container-id-1 div.sk-dashed-wrapped {\n",
       "  border: 1px dashed var(--sklearn-color-line);\n",
       "  margin: 0 0.4em 0.5em 0.4em;\n",
       "  box-sizing: border-box;\n",
       "  padding-bottom: 0.4em;\n",
       "  background-color: var(--sklearn-color-background);\n",
       "}\n",
       "\n",
       "#sk-container-id-1 div.sk-container {\n",
       "  /* jupyter's `normalize.less` sets `[hidden] { display: none; }`\n",
       "     but bootstrap.min.css set `[hidden] { display: none !important; }`\n",
       "     so we also need the `!important` here to be able to override the\n",
       "     default hidden behavior on the sphinx rendered scikit-learn.org.\n",
       "     See: https://github.com/scikit-learn/scikit-learn/issues/21755 */\n",
       "  display: inline-block !important;\n",
       "  position: relative;\n",
       "}\n",
       "\n",
       "#sk-container-id-1 div.sk-text-repr-fallback {\n",
       "  display: none;\n",
       "}\n",
       "\n",
       "div.sk-parallel-item,\n",
       "div.sk-serial,\n",
       "div.sk-item {\n",
       "  /* draw centered vertical line to link estimators */\n",
       "  background-image: linear-gradient(var(--sklearn-color-text-on-default-background), var(--sklearn-color-text-on-default-background));\n",
       "  background-size: 2px 100%;\n",
       "  background-repeat: no-repeat;\n",
       "  background-position: center center;\n",
       "}\n",
       "\n",
       "/* Parallel-specific style estimator block */\n",
       "\n",
       "#sk-container-id-1 div.sk-parallel-item::after {\n",
       "  content: \"\";\n",
       "  width: 100%;\n",
       "  border-bottom: 2px solid var(--sklearn-color-text-on-default-background);\n",
       "  flex-grow: 1;\n",
       "}\n",
       "\n",
       "#sk-container-id-1 div.sk-parallel {\n",
       "  display: flex;\n",
       "  align-items: stretch;\n",
       "  justify-content: center;\n",
       "  background-color: var(--sklearn-color-background);\n",
       "  position: relative;\n",
       "}\n",
       "\n",
       "#sk-container-id-1 div.sk-parallel-item {\n",
       "  display: flex;\n",
       "  flex-direction: column;\n",
       "}\n",
       "\n",
       "#sk-container-id-1 div.sk-parallel-item:first-child::after {\n",
       "  align-self: flex-end;\n",
       "  width: 50%;\n",
       "}\n",
       "\n",
       "#sk-container-id-1 div.sk-parallel-item:last-child::after {\n",
       "  align-self: flex-start;\n",
       "  width: 50%;\n",
       "}\n",
       "\n",
       "#sk-container-id-1 div.sk-parallel-item:only-child::after {\n",
       "  width: 0;\n",
       "}\n",
       "\n",
       "/* Serial-specific style estimator block */\n",
       "\n",
       "#sk-container-id-1 div.sk-serial {\n",
       "  display: flex;\n",
       "  flex-direction: column;\n",
       "  align-items: center;\n",
       "  background-color: var(--sklearn-color-background);\n",
       "  padding-right: 1em;\n",
       "  padding-left: 1em;\n",
       "}\n",
       "\n",
       "\n",
       "/* Toggleable style: style used for estimator/Pipeline/ColumnTransformer box that is\n",
       "clickable and can be expanded/collapsed.\n",
       "- Pipeline and ColumnTransformer use this feature and define the default style\n",
       "- Estimators will overwrite some part of the style using the `sk-estimator` class\n",
       "*/\n",
       "\n",
       "/* Pipeline and ColumnTransformer style (default) */\n",
       "\n",
       "#sk-container-id-1 div.sk-toggleable {\n",
       "  /* Default theme specific background. It is overwritten whether we have a\n",
       "  specific estimator or a Pipeline/ColumnTransformer */\n",
       "  background-color: var(--sklearn-color-background);\n",
       "}\n",
       "\n",
       "/* Toggleable label */\n",
       "#sk-container-id-1 label.sk-toggleable__label {\n",
       "  cursor: pointer;\n",
       "  display: block;\n",
       "  width: 100%;\n",
       "  margin-bottom: 0;\n",
       "  padding: 0.5em;\n",
       "  box-sizing: border-box;\n",
       "  text-align: center;\n",
       "}\n",
       "\n",
       "#sk-container-id-1 label.sk-toggleable__label-arrow:before {\n",
       "  /* Arrow on the left of the label */\n",
       "  content: \"▸\";\n",
       "  float: left;\n",
       "  margin-right: 0.25em;\n",
       "  color: var(--sklearn-color-icon);\n",
       "}\n",
       "\n",
       "#sk-container-id-1 label.sk-toggleable__label-arrow:hover:before {\n",
       "  color: var(--sklearn-color-text);\n",
       "}\n",
       "\n",
       "/* Toggleable content - dropdown */\n",
       "\n",
       "#sk-container-id-1 div.sk-toggleable__content {\n",
       "  max-height: 0;\n",
       "  max-width: 0;\n",
       "  overflow: hidden;\n",
       "  text-align: left;\n",
       "  /* unfitted */\n",
       "  background-color: var(--sklearn-color-unfitted-level-0);\n",
       "}\n",
       "\n",
       "#sk-container-id-1 div.sk-toggleable__content.fitted {\n",
       "  /* fitted */\n",
       "  background-color: var(--sklearn-color-fitted-level-0);\n",
       "}\n",
       "\n",
       "#sk-container-id-1 div.sk-toggleable__content pre {\n",
       "  margin: 0.2em;\n",
       "  border-radius: 0.25em;\n",
       "  color: var(--sklearn-color-text);\n",
       "  /* unfitted */\n",
       "  background-color: var(--sklearn-color-unfitted-level-0);\n",
       "}\n",
       "\n",
       "#sk-container-id-1 div.sk-toggleable__content.fitted pre {\n",
       "  /* unfitted */\n",
       "  background-color: var(--sklearn-color-fitted-level-0);\n",
       "}\n",
       "\n",
       "#sk-container-id-1 input.sk-toggleable__control:checked~div.sk-toggleable__content {\n",
       "  /* Expand drop-down */\n",
       "  max-height: 200px;\n",
       "  max-width: 100%;\n",
       "  overflow: auto;\n",
       "}\n",
       "\n",
       "#sk-container-id-1 input.sk-toggleable__control:checked~label.sk-toggleable__label-arrow:before {\n",
       "  content: \"▾\";\n",
       "}\n",
       "\n",
       "/* Pipeline/ColumnTransformer-specific style */\n",
       "\n",
       "#sk-container-id-1 div.sk-label input.sk-toggleable__control:checked~label.sk-toggleable__label {\n",
       "  color: var(--sklearn-color-text);\n",
       "  background-color: var(--sklearn-color-unfitted-level-2);\n",
       "}\n",
       "\n",
       "#sk-container-id-1 div.sk-label.fitted input.sk-toggleable__control:checked~label.sk-toggleable__label {\n",
       "  background-color: var(--sklearn-color-fitted-level-2);\n",
       "}\n",
       "\n",
       "/* Estimator-specific style */\n",
       "\n",
       "/* Colorize estimator box */\n",
       "#sk-container-id-1 div.sk-estimator input.sk-toggleable__control:checked~label.sk-toggleable__label {\n",
       "  /* unfitted */\n",
       "  background-color: var(--sklearn-color-unfitted-level-2);\n",
       "}\n",
       "\n",
       "#sk-container-id-1 div.sk-estimator.fitted input.sk-toggleable__control:checked~label.sk-toggleable__label {\n",
       "  /* fitted */\n",
       "  background-color: var(--sklearn-color-fitted-level-2);\n",
       "}\n",
       "\n",
       "#sk-container-id-1 div.sk-label label.sk-toggleable__label,\n",
       "#sk-container-id-1 div.sk-label label {\n",
       "  /* The background is the default theme color */\n",
       "  color: var(--sklearn-color-text-on-default-background);\n",
       "}\n",
       "\n",
       "/* On hover, darken the color of the background */\n",
       "#sk-container-id-1 div.sk-label:hover label.sk-toggleable__label {\n",
       "  color: var(--sklearn-color-text);\n",
       "  background-color: var(--sklearn-color-unfitted-level-2);\n",
       "}\n",
       "\n",
       "/* Label box, darken color on hover, fitted */\n",
       "#sk-container-id-1 div.sk-label.fitted:hover label.sk-toggleable__label.fitted {\n",
       "  color: var(--sklearn-color-text);\n",
       "  background-color: var(--sklearn-color-fitted-level-2);\n",
       "}\n",
       "\n",
       "/* Estimator label */\n",
       "\n",
       "#sk-container-id-1 div.sk-label label {\n",
       "  font-family: monospace;\n",
       "  font-weight: bold;\n",
       "  display: inline-block;\n",
       "  line-height: 1.2em;\n",
       "}\n",
       "\n",
       "#sk-container-id-1 div.sk-label-container {\n",
       "  text-align: center;\n",
       "}\n",
       "\n",
       "/* Estimator-specific */\n",
       "#sk-container-id-1 div.sk-estimator {\n",
       "  font-family: monospace;\n",
       "  border: 1px dotted var(--sklearn-color-border-box);\n",
       "  border-radius: 0.25em;\n",
       "  box-sizing: border-box;\n",
       "  margin-bottom: 0.5em;\n",
       "  /* unfitted */\n",
       "  background-color: var(--sklearn-color-unfitted-level-0);\n",
       "}\n",
       "\n",
       "#sk-container-id-1 div.sk-estimator.fitted {\n",
       "  /* fitted */\n",
       "  background-color: var(--sklearn-color-fitted-level-0);\n",
       "}\n",
       "\n",
       "/* on hover */\n",
       "#sk-container-id-1 div.sk-estimator:hover {\n",
       "  /* unfitted */\n",
       "  background-color: var(--sklearn-color-unfitted-level-2);\n",
       "}\n",
       "\n",
       "#sk-container-id-1 div.sk-estimator.fitted:hover {\n",
       "  /* fitted */\n",
       "  background-color: var(--sklearn-color-fitted-level-2);\n",
       "}\n",
       "\n",
       "/* Specification for estimator info (e.g. \"i\" and \"?\") */\n",
       "\n",
       "/* Common style for \"i\" and \"?\" */\n",
       "\n",
       ".sk-estimator-doc-link,\n",
       "a:link.sk-estimator-doc-link,\n",
       "a:visited.sk-estimator-doc-link {\n",
       "  float: right;\n",
       "  font-size: smaller;\n",
       "  line-height: 1em;\n",
       "  font-family: monospace;\n",
       "  background-color: var(--sklearn-color-background);\n",
       "  border-radius: 1em;\n",
       "  height: 1em;\n",
       "  width: 1em;\n",
       "  text-decoration: none !important;\n",
       "  margin-left: 1ex;\n",
       "  /* unfitted */\n",
       "  border: var(--sklearn-color-unfitted-level-1) 1pt solid;\n",
       "  color: var(--sklearn-color-unfitted-level-1);\n",
       "}\n",
       "\n",
       ".sk-estimator-doc-link.fitted,\n",
       "a:link.sk-estimator-doc-link.fitted,\n",
       "a:visited.sk-estimator-doc-link.fitted {\n",
       "  /* fitted */\n",
       "  border: var(--sklearn-color-fitted-level-1) 1pt solid;\n",
       "  color: var(--sklearn-color-fitted-level-1);\n",
       "}\n",
       "\n",
       "/* On hover */\n",
       "div.sk-estimator:hover .sk-estimator-doc-link:hover,\n",
       ".sk-estimator-doc-link:hover,\n",
       "div.sk-label-container:hover .sk-estimator-doc-link:hover,\n",
       ".sk-estimator-doc-link:hover {\n",
       "  /* unfitted */\n",
       "  background-color: var(--sklearn-color-unfitted-level-3);\n",
       "  color: var(--sklearn-color-background);\n",
       "  text-decoration: none;\n",
       "}\n",
       "\n",
       "div.sk-estimator.fitted:hover .sk-estimator-doc-link.fitted:hover,\n",
       ".sk-estimator-doc-link.fitted:hover,\n",
       "div.sk-label-container:hover .sk-estimator-doc-link.fitted:hover,\n",
       ".sk-estimator-doc-link.fitted:hover {\n",
       "  /* fitted */\n",
       "  background-color: var(--sklearn-color-fitted-level-3);\n",
       "  color: var(--sklearn-color-background);\n",
       "  text-decoration: none;\n",
       "}\n",
       "\n",
       "/* Span, style for the box shown on hovering the info icon */\n",
       ".sk-estimator-doc-link span {\n",
       "  display: none;\n",
       "  z-index: 9999;\n",
       "  position: relative;\n",
       "  font-weight: normal;\n",
       "  right: .2ex;\n",
       "  padding: .5ex;\n",
       "  margin: .5ex;\n",
       "  width: min-content;\n",
       "  min-width: 20ex;\n",
       "  max-width: 50ex;\n",
       "  color: var(--sklearn-color-text);\n",
       "  box-shadow: 2pt 2pt 4pt #999;\n",
       "  /* unfitted */\n",
       "  background: var(--sklearn-color-unfitted-level-0);\n",
       "  border: .5pt solid var(--sklearn-color-unfitted-level-3);\n",
       "}\n",
       "\n",
       ".sk-estimator-doc-link.fitted span {\n",
       "  /* fitted */\n",
       "  background: var(--sklearn-color-fitted-level-0);\n",
       "  border: var(--sklearn-color-fitted-level-3);\n",
       "}\n",
       "\n",
       ".sk-estimator-doc-link:hover span {\n",
       "  display: block;\n",
       "}\n",
       "\n",
       "/* \"?\"-specific style due to the `<a>` HTML tag */\n",
       "\n",
       "#sk-container-id-1 a.estimator_doc_link {\n",
       "  float: right;\n",
       "  font-size: 1rem;\n",
       "  line-height: 1em;\n",
       "  font-family: monospace;\n",
       "  background-color: var(--sklearn-color-background);\n",
       "  border-radius: 1rem;\n",
       "  height: 1rem;\n",
       "  width: 1rem;\n",
       "  text-decoration: none;\n",
       "  /* unfitted */\n",
       "  color: var(--sklearn-color-unfitted-level-1);\n",
       "  border: var(--sklearn-color-unfitted-level-1) 1pt solid;\n",
       "}\n",
       "\n",
       "#sk-container-id-1 a.estimator_doc_link.fitted {\n",
       "  /* fitted */\n",
       "  border: var(--sklearn-color-fitted-level-1) 1pt solid;\n",
       "  color: var(--sklearn-color-fitted-level-1);\n",
       "}\n",
       "\n",
       "/* On hover */\n",
       "#sk-container-id-1 a.estimator_doc_link:hover {\n",
       "  /* unfitted */\n",
       "  background-color: var(--sklearn-color-unfitted-level-3);\n",
       "  color: var(--sklearn-color-background);\n",
       "  text-decoration: none;\n",
       "}\n",
       "\n",
       "#sk-container-id-1 a.estimator_doc_link.fitted:hover {\n",
       "  /* fitted */\n",
       "  background-color: var(--sklearn-color-fitted-level-3);\n",
       "}\n",
       "</style><div id=\"sk-container-id-1\" class=\"sk-top-container\"><div class=\"sk-text-repr-fallback\"><pre>GridSearchCV(cv=5,\n",
       "             estimator=Pipeline(steps=[(&#x27;preprocessor&#x27;,\n",
       "                                        ColumnTransformer(remainder=&#x27;passthrough&#x27;,\n",
       "                                                          transformers=[(&#x27;cat&#x27;,\n",
       "                                                                         OneHotEncoder(drop=&#x27;first&#x27;,\n",
       "                                                                                       handle_unknown=&#x27;ignore&#x27;),\n",
       "                                                                         [&#x27;Brand&#x27;,\n",
       "                                                                          &#x27;Model&#x27;,\n",
       "                                                                          &#x27;Fuel&#x27;,\n",
       "                                                                          &#x27;Seller_Type&#x27;,\n",
       "                                                                          &#x27;Transmission&#x27;])])),\n",
       "                                       (&#x27;regressor&#x27;,\n",
       "                                        RandomForestRegressor(random_state=101))]),\n",
       "             n_jobs=-1,\n",
       "             param_grid={&#x27;regressor__max_depth&#x27;: [None, 10, 20],\n",
       "                         &#x27;regressor__min_samples_split&#x27;: [2, 5],\n",
       "                         &#x27;regressor__n_estimators&#x27;: [100, 200]},\n",
       "             scoring=&#x27;neg_mean_absolute_error&#x27;, verbose=2)</pre><b>In a Jupyter environment, please rerun this cell to show the HTML representation or trust the notebook. <br />On GitHub, the HTML representation is unable to render, please try loading this page with nbviewer.org.</b></div><div class=\"sk-container\" hidden><div class=\"sk-item sk-dashed-wrapped\"><div class=\"sk-label-container\"><div class=\"sk-label fitted sk-toggleable\"><input class=\"sk-toggleable__control sk-hidden--visually\" id=\"sk-estimator-id-1\" type=\"checkbox\" ><label for=\"sk-estimator-id-1\" class=\"sk-toggleable__label fitted sk-toggleable__label-arrow fitted\">&nbsp;&nbsp;GridSearchCV<a class=\"sk-estimator-doc-link fitted\" rel=\"noreferrer\" target=\"_blank\" href=\"https://scikit-learn.org/1.5/modules/generated/sklearn.model_selection.GridSearchCV.html\">?<span>Documentation for GridSearchCV</span></a><span class=\"sk-estimator-doc-link fitted\">i<span>Fitted</span></span></label><div class=\"sk-toggleable__content fitted\"><pre>GridSearchCV(cv=5,\n",
       "             estimator=Pipeline(steps=[(&#x27;preprocessor&#x27;,\n",
       "                                        ColumnTransformer(remainder=&#x27;passthrough&#x27;,\n",
       "                                                          transformers=[(&#x27;cat&#x27;,\n",
       "                                                                         OneHotEncoder(drop=&#x27;first&#x27;,\n",
       "                                                                                       handle_unknown=&#x27;ignore&#x27;),\n",
       "                                                                         [&#x27;Brand&#x27;,\n",
       "                                                                          &#x27;Model&#x27;,\n",
       "                                                                          &#x27;Fuel&#x27;,\n",
       "                                                                          &#x27;Seller_Type&#x27;,\n",
       "                                                                          &#x27;Transmission&#x27;])])),\n",
       "                                       (&#x27;regressor&#x27;,\n",
       "                                        RandomForestRegressor(random_state=101))]),\n",
       "             n_jobs=-1,\n",
       "             param_grid={&#x27;regressor__max_depth&#x27;: [None, 10, 20],\n",
       "                         &#x27;regressor__min_samples_split&#x27;: [2, 5],\n",
       "                         &#x27;regressor__n_estimators&#x27;: [100, 200]},\n",
       "             scoring=&#x27;neg_mean_absolute_error&#x27;, verbose=2)</pre></div> </div></div><div class=\"sk-parallel\"><div class=\"sk-parallel-item\"><div class=\"sk-item\"><div class=\"sk-label-container\"><div class=\"sk-label fitted sk-toggleable\"><input class=\"sk-toggleable__control sk-hidden--visually\" id=\"sk-estimator-id-2\" type=\"checkbox\" ><label for=\"sk-estimator-id-2\" class=\"sk-toggleable__label fitted sk-toggleable__label-arrow fitted\">best_estimator_: Pipeline</label><div class=\"sk-toggleable__content fitted\"><pre>Pipeline(steps=[(&#x27;preprocessor&#x27;,\n",
       "                 ColumnTransformer(remainder=&#x27;passthrough&#x27;,\n",
       "                                   transformers=[(&#x27;cat&#x27;,\n",
       "                                                  OneHotEncoder(drop=&#x27;first&#x27;,\n",
       "                                                                handle_unknown=&#x27;ignore&#x27;),\n",
       "                                                  [&#x27;Brand&#x27;, &#x27;Model&#x27;, &#x27;Fuel&#x27;,\n",
       "                                                   &#x27;Seller_Type&#x27;,\n",
       "                                                   &#x27;Transmission&#x27;])])),\n",
       "                (&#x27;regressor&#x27;,\n",
       "                 RandomForestRegressor(n_estimators=200, random_state=101))])</pre></div> </div></div><div class=\"sk-serial\"><div class=\"sk-item\"><div class=\"sk-serial\"><div class=\"sk-item sk-dashed-wrapped\"><div class=\"sk-label-container\"><div class=\"sk-label fitted sk-toggleable\"><input class=\"sk-toggleable__control sk-hidden--visually\" id=\"sk-estimator-id-3\" type=\"checkbox\" ><label for=\"sk-estimator-id-3\" class=\"sk-toggleable__label fitted sk-toggleable__label-arrow fitted\">&nbsp;preprocessor: ColumnTransformer<a class=\"sk-estimator-doc-link fitted\" rel=\"noreferrer\" target=\"_blank\" href=\"https://scikit-learn.org/1.5/modules/generated/sklearn.compose.ColumnTransformer.html\">?<span>Documentation for preprocessor: ColumnTransformer</span></a></label><div class=\"sk-toggleable__content fitted\"><pre>ColumnTransformer(remainder=&#x27;passthrough&#x27;,\n",
       "                  transformers=[(&#x27;cat&#x27;,\n",
       "                                 OneHotEncoder(drop=&#x27;first&#x27;,\n",
       "                                               handle_unknown=&#x27;ignore&#x27;),\n",
       "                                 [&#x27;Brand&#x27;, &#x27;Model&#x27;, &#x27;Fuel&#x27;, &#x27;Seller_Type&#x27;,\n",
       "                                  &#x27;Transmission&#x27;])])</pre></div> </div></div><div class=\"sk-parallel\"><div class=\"sk-parallel-item\"><div class=\"sk-item\"><div class=\"sk-label-container\"><div class=\"sk-label fitted sk-toggleable\"><input class=\"sk-toggleable__control sk-hidden--visually\" id=\"sk-estimator-id-4\" type=\"checkbox\" ><label for=\"sk-estimator-id-4\" class=\"sk-toggleable__label fitted sk-toggleable__label-arrow fitted\">cat</label><div class=\"sk-toggleable__content fitted\"><pre>[&#x27;Brand&#x27;, &#x27;Model&#x27;, &#x27;Fuel&#x27;, &#x27;Seller_Type&#x27;, &#x27;Transmission&#x27;]</pre></div> </div></div><div class=\"sk-serial\"><div class=\"sk-item\"><div class=\"sk-estimator fitted sk-toggleable\"><input class=\"sk-toggleable__control sk-hidden--visually\" id=\"sk-estimator-id-5\" type=\"checkbox\" ><label for=\"sk-estimator-id-5\" class=\"sk-toggleable__label fitted sk-toggleable__label-arrow fitted\">&nbsp;OneHotEncoder<a class=\"sk-estimator-doc-link fitted\" rel=\"noreferrer\" target=\"_blank\" href=\"https://scikit-learn.org/1.5/modules/generated/sklearn.preprocessing.OneHotEncoder.html\">?<span>Documentation for OneHotEncoder</span></a></label><div class=\"sk-toggleable__content fitted\"><pre>OneHotEncoder(drop=&#x27;first&#x27;, handle_unknown=&#x27;ignore&#x27;)</pre></div> </div></div></div></div></div><div class=\"sk-parallel-item\"><div class=\"sk-item\"><div class=\"sk-label-container\"><div class=\"sk-label fitted sk-toggleable\"><input class=\"sk-toggleable__control sk-hidden--visually\" id=\"sk-estimator-id-6\" type=\"checkbox\" ><label for=\"sk-estimator-id-6\" class=\"sk-toggleable__label fitted sk-toggleable__label-arrow fitted\">remainder</label><div class=\"sk-toggleable__content fitted\"><pre>[&#x27;Year&#x27;, &#x27;KM_Driven&#x27;, &#x27;Is_First_Owner&#x27;]</pre></div> </div></div><div class=\"sk-serial\"><div class=\"sk-item\"><div class=\"sk-estimator fitted sk-toggleable\"><input class=\"sk-toggleable__control sk-hidden--visually\" id=\"sk-estimator-id-7\" type=\"checkbox\" ><label for=\"sk-estimator-id-7\" class=\"sk-toggleable__label fitted sk-toggleable__label-arrow fitted\">passthrough</label><div class=\"sk-toggleable__content fitted\"><pre>passthrough</pre></div> </div></div></div></div></div></div></div><div class=\"sk-item\"><div class=\"sk-estimator fitted sk-toggleable\"><input class=\"sk-toggleable__control sk-hidden--visually\" id=\"sk-estimator-id-8\" type=\"checkbox\" ><label for=\"sk-estimator-id-8\" class=\"sk-toggleable__label fitted sk-toggleable__label-arrow fitted\">&nbsp;RandomForestRegressor<a class=\"sk-estimator-doc-link fitted\" rel=\"noreferrer\" target=\"_blank\" href=\"https://scikit-learn.org/1.5/modules/generated/sklearn.ensemble.RandomForestRegressor.html\">?<span>Documentation for RandomForestRegressor</span></a></label><div class=\"sk-toggleable__content fitted\"><pre>RandomForestRegressor(n_estimators=200, random_state=101)</pre></div> </div></div></div></div></div></div></div></div></div></div></div>"
      ],
      "text/plain": [
       "GridSearchCV(cv=5,\n",
       "             estimator=Pipeline(steps=[('preprocessor',\n",
       "                                        ColumnTransformer(remainder='passthrough',\n",
       "                                                          transformers=[('cat',\n",
       "                                                                         OneHotEncoder(drop='first',\n",
       "                                                                                       handle_unknown='ignore'),\n",
       "                                                                         ['Brand',\n",
       "                                                                          'Model',\n",
       "                                                                          'Fuel',\n",
       "                                                                          'Seller_Type',\n",
       "                                                                          'Transmission'])])),\n",
       "                                       ('regressor',\n",
       "                                        RandomForestRegressor(random_state=101))]),\n",
       "             n_jobs=-1,\n",
       "             param_grid={'regressor__max_depth': [None, 10, 20],\n",
       "                         'regressor__min_samples_split': [2, 5],\n",
       "                         'regressor__n_estimators': [100, 200]},\n",
       "             scoring='neg_mean_absolute_error', verbose=2)"
      ]
     },
     "execution_count": 49,
     "metadata": {},
     "output_type": "execute_result"
    }
   ],
   "source": [
    "# 7. GridSearch pour optimiser hyperparamètres\n",
    "param_grid = {\n",
    "    'regressor__n_estimators': [100, 200],\n",
    "    'regressor__max_depth': [None, 10, 20],\n",
    "    'regressor__min_samples_split': [2, 5]\n",
    "}\n",
    "\n",
    "grid_search = GridSearchCV(pipeline, param_grid, cv=5, scoring='neg_mean_absolute_error', n_jobs=-1, verbose=2)\n",
    "\n",
    "# 8. Entraînement avec GridSearch\n",
    "grid_search.fit(X_train, y_train)"
   ]
  },
  {
   "cell_type": "code",
   "execution_count": 50,
   "id": "6637161e",
   "metadata": {},
   "outputs": [
    {
     "name": "stdout",
     "output_type": "stream",
     "text": [
      "Meilleur score CV (MAE négatif) : -113373.30164430209\n"
     ]
    }
   ],
   "source": [
    "print(\"Meilleur score CV (MAE négatif) :\", grid_search.best_score_)"
   ]
  },
  {
   "cell_type": "code",
   "execution_count": 51,
   "id": "32c1152d",
   "metadata": {},
   "outputs": [
    {
     "name": "stdout",
     "output_type": "stream",
     "text": [
      "MAE CV (validation croisée) : 113373.30\n"
     ]
    }
   ],
   "source": [
    "best_mae_cv = -grid_search.best_score_\n",
    "print(f\"MAE CV (validation croisée) : {best_mae_cv:.2f}\")"
   ]
  },
  {
   "cell_type": "code",
   "execution_count": 52,
   "id": "298d86c0",
   "metadata": {},
   "outputs": [
    {
     "name": "stderr",
     "output_type": "stream",
     "text": [
      "/home/mihavana/anaconda3/lib/python3.12/site-packages/sklearn/preprocessing/_encoders.py:242: UserWarning: Found unknown categories in columns [0, 1] during transform. These unknown categories will be encoded as all zeros\n",
      "  warnings.warn(\n"
     ]
    },
    {
     "name": "stdout",
     "output_type": "stream",
     "text": [
      "MAE sur test set : 89006.76\n"
     ]
    }
   ],
   "source": [
    "y_pred = grid_search.predict(X_test)\n",
    "mae_test = mean_absolute_error(y_test, y_pred)\n",
    "print(f\"MAE sur test set : {mae_test:.2f}\")"
   ]
  },
  {
   "cell_type": "code",
   "execution_count": 53,
   "id": "289e406a",
   "metadata": {},
   "outputs": [
    {
     "data": {
      "text/plain": [
       "0.9044389598075945"
      ]
     },
     "execution_count": 53,
     "metadata": {},
     "output_type": "execute_result"
    }
   ],
   "source": [
    "r2_score(y_test, y_pred)"
   ]
  },
  {
   "cell_type": "code",
   "execution_count": 55,
   "id": "3d8cbe26",
   "metadata": {},
   "outputs": [
    {
     "data": {
      "text/plain": [
       "['/mnt/44D2A11AD2A1116A/Studies/INSI/M1/DOCKER/Project/Cars_Price/Model/car_price_model.pkl']"
      ]
     },
     "execution_count": 55,
     "metadata": {},
     "output_type": "execute_result"
    }
   ],
   "source": [
    "import joblib\n",
    "\n",
    "#grid_search.best_estimator_ contient tout : préprocessing + meilleur modèle\n",
    "joblib.dump(grid_search.best_estimator_, '/mnt/44D2A11AD2A1116A/Studies/INSI/M1/DOCKER/Project/Cars_Price/Model/car_price_model.pkl')"
   ]
  },
  {
   "cell_type": "code",
   "execution_count": 57,
   "id": "df33067d",
   "metadata": {},
   "outputs": [
    {
     "name": "stdout",
     "output_type": "stream",
     "text": [
      "Prix prédit : 300434.95\n"
     ]
    }
   ],
   "source": [
    "model = joblib.load('/mnt/44D2A11AD2A1116A/Studies/INSI/M1/DOCKER/Project/Cars_Price/Model/car_price_model.pkl')\n",
    "\n",
    "# Exemple prédiction\n",
    "input_data = pd.DataFrame([{\n",
    "    'Brand': 'Hyundai',\n",
    "    'Model' : 'Hyundai Verna 1.6 SX',\n",
    "    'Fuel': 'Petrol',\n",
    "    'Seller_Type': 'Individual',\n",
    "    'Transmission': 'Manual',\n",
    "    'KM_Driven': 50000,\n",
    "    'Year': 2015,\n",
    "    'Is_First_Owner': 1\n",
    "}])\n",
    "\n",
    "pred = model.predict(input_data)\n",
    "print(f\"Prix prédit : {pred[0]:.2f}\")"
   ]
  }
 ],
 "metadata": {
  "kernelspec": {
   "display_name": "base",
   "language": "python",
   "name": "python3"
  },
  "language_info": {
   "codemirror_mode": {
    "name": "ipython",
    "version": 3
   },
   "file_extension": ".py",
   "mimetype": "text/x-python",
   "name": "python",
   "nbconvert_exporter": "python",
   "pygments_lexer": "ipython3",
   "version": "3.12.7"
  }
 },
 "nbformat": 4,
 "nbformat_minor": 5
}
